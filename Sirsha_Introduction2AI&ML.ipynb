{
  "nbformat": 4,
  "nbformat_minor": 0,
  "metadata": {
    "colab": {
      "provenance": [],
      "include_colab_link": true
    },
    "kernelspec": {
      "name": "python3",
      "display_name": "Python 3"
    }
  },
  "cells": [
    {
      "cell_type": "markdown",
      "metadata": {
        "id": "view-in-github",
        "colab_type": "text"
      },
      "source": [
        "<a href=\"https://colab.research.google.com/github/Sirsha2468/Introduction-to-AI-ML/blob/main/Sirsha_Introduction2AI%26ML.ipynb\" target=\"_parent\"><img src=\"https://colab.research.google.com/assets/colab-badge.svg\" alt=\"Open In Colab\"/></a>"
      ]
    },
    {
      "cell_type": "markdown",
      "metadata": {
        "id": "YdmZPtYSn7kA"
      },
      "source": [
        "We have heard Machine Learning and Artificial Intellence word serveral times.\n",
        "\n",
        "**What is AI?**\n",
        "\n",
        "- Artificial intelligence is the simulation of human intelligence processes by machines, especially computer systems.\n",
        "\n",
        "**What is the purpose of AI?**\n",
        "\n",
        "- AI makes it possible for machines to learn from experience, adjust to new inputs and perform human-like tasks.\n",
        "\n",
        "**How we can make a machine learn on its own?**\n",
        "\n",
        "- A machine becomes intelligent by training with data and algorithm. AI machines keep updating their knowledge to optimize their output. Machines also become intelligent once they are trained with some information which helps them achieve their tasks.\n",
        "\n",
        "\n",
        "<img src=\"data:image/png;base64,iVBORw0KGgoAAAANSUhEUgAAAOwAAADVCAMAAABjeOxDAAABTVBMVEX///8APHIBccUBrvAAO3IBccT///0Aru8Ab8UAOnAAPHAAOXAArPABPXMAb8MAPHQANW4AL2sAMWwAbMIAPW8ANW8Aa8UAr+wANG4AKGgAcsn///oAq/HP7PgAL2kAOnTt8vRKj9F0q9u3z+vo9P17j6y0v8u+ytXb4ucBXaXc6PXJ092El68AHGMhesjz+fmr3/aSqL0hTXwAI2MnWIVphaQBUJCDst1TmdQEZ7U7hswElNxWd5c6X4ff6u0YR3d+l7GhtceQo7dFa5EDSIEAYsGYv+LA2O3Q4vBqotZYlNAxgcqXvuMDUpQBidRBuu9vyfICneFyzPGP1vQot+0dTHZaeZQADV8AFV87YJAYSnVvhqiEmKoyXoJNa4kCRYXI2fGtz+WJstN1otkAXcV2yPZ0zubZ8vdWvvWN0PVPw+zG6vGf2vGe1vao4vITWWIZAAAgAElEQVR4nO19+V/a2tY3Q+aQMEWCiBKgAoonEQqClClgQUSFAva9T5/eWnrenlaOPf//j+/aARQkgeDQ9r6fu5Qp2YF8s9Ze0157x2L5L70sEXMfCAI9jd/+mvN5MSK2xi/ak0bTHRPc/1+RUk7G1VS1mi0Wi3Wg4vvsbjWlxpNl6Vef2rPQhH9SIpYqZgTPptvt9vj9rg3XhDxuRB4uXazFkpKiyfN/LpMJpazulio7OzssTVsNCKPZjR2325nJqgnpPw7qpAsqSTVb8rj9IczKcJwR1DE5MZph/W53uphKKjPf8Z9BUryaYT1+FlsO8iGTWZfHld6NSf9BGlqJvz/ZcbmcawG9I9rjthZVaetXo1hFSPiU+O4Htwt6KM08DqzTytAudyUbU341nFVUVkse1lAXrUGM352uJX5XWUbnlcwKOwxmXaWOTBHtpHecxeSvhqVDyKIqsbrbv55CWkkud0mVfjtdBVBLm88NFRG7k1alX43unjSTGPu3Z4PhHql/l1PInUkplt+DuwhqvLSuRV2LWH9G/T1kmbAki5vsY+2MOWLYzVJ8/GO/FqtUdbngfF6QsYgwlzubsFh+radBqOmdF+mpD4mz7lRSyq/iLArHLIki+ErC5HwYJwPEYZwT4HPAagxzYoxAax8YK8NgGDLAGCY4aQG9o6EhjWFIKLTmDMY4oYkTbWA41DEYCJbAbmtgraynnvxVPjP8rDoXuDEsIzhDtMBABEMDbBo9YU6GDsGrNRSCyIaB9gLDhDCMpVEbK8ui4I+jGcEacgo0y0IThmZDVnoDmtBOaDDzE67Nj7/IhyQSxU2GmZFhLl1hK+l0CEtfpdMnV1w6nRbSjKtU4rgrjk2naSaN+FNJc2mmcgUt05WK9sDYSgWj4WihnvFX0leVSoWufGAqpbQLNbhXB4LgLv0CnwrYGkt75nqVK6uorw8kJVmUJKlckzIJSdmVigcWi1qS6v5EopKWsi6rW00Wy0I2oSqSFI9JSkxNsu5YnHUnY5WERSrW4BuqCXcqiT6B/6TEPHe8xULWDSb102NdQtn1h+ZViLtmSW6mLDUi9V5KvD+wZKRYtmh5n0iqSpEoVhRLPW3Z9VvdsUTRUtyV6geW2Kd4IluPJdjNeMK1mYjvWnbLsRSRhQuUURNZS01KxcvZ4nxcQbuL0s/FakmUdqwPght3TJF2aoogpf5PIvnHLoCtvS5ZspL6iSgS9ZJiyd6BJWJZqZKxHPwrnvjj9T3YmuKPJ1PKH5tVy8dUokYw5Vgs8XrjoWJ2Xf1UUSZiwsIpYK5kUknXFE5S/0gkN8dg6wiskP1kqWelROoerLQrVUqWgz8A7OY92JTC1OsI7IElgcBeFUvxxOvQw1+ysi6V+HkWN+UPLXhMmFBOKfWa5aNldwo2oZYIAOt21y31WiIevwOrSLEJWCVRnwVbKpZSRGK3qkjxJID1b0KDomsBLeau/iStDN3VrROe0xmlKGVrEL9XXpfHYKU4Ahvb2SxZ6vFYLXEHVgKJT2tgpVhpBqxUtcRTRKxYTSSVZM1y5X4NDers4o9ZPdBxf4aakopuq050ztYtia1UTcpaPk05e/C6jjibUYuWekIqlzPElLPvLfpiXInD07/ctUTVAmA/1LIgxvp5D1fmZ6QxEhmXoJeJ8FQJtRwHi2P5iMBWUZ/dqW8BWFC+0HWTcaVO7G5iGtiKNOFs4o8/YglgYHLzNQILNihFvH79MVEBsISgKSiXntvNWV1C8sV5m0gvdqExWFV6rSZSUkWK/VGegIXO+j6RiEt1omop/o8luxWvZTTTw8WUiRjXsjGp9h5ei4k4GBtkeg6qB2V3AkyPqtRgxy6rG1ExG0L8hdEmrwywYmwsvlMFJcrE46+TMXe2nElUd0rl4q6ipErlWjmTKR+ALNc3walICNnTSqa8+1qFfp2SJBVeU3G1ktwC81uWElUw2PFKkiiXUAOPPlg2xMVeFmvFACuQYGXBv2dCVsEpWJ1WISRgVqeAbVTSLCZgAqhrBj0gNoAPNDjNqJWWOcXGgQMXojMV1spBOxQthJiMgJQ+ox9VcRBisC+JNoktyZKiuAVO8v5/EuNiLPqETVtoO+/2zT6wcdPJ27tPSyJleuel0BLAV32sTg9rneCxWscR3RgBPdlKs8AfpxVzcrTWCONmEYC64zirFtKNj0NcxhC74QiI95xWPe2vMZd2xV6m3xKJip7FAznzqCXY43K5rBsueLHSLg+74Qq5WOeGn3W5MOdJJp1ys4zHFbqqgGT6/bTLxfn9LivH+l0C68Foj5tm4ZL5US9h4BC/H55DgouFljTj8uv/MrRl4i8CNnG14CKOic3EUm5GyNayTLZaqe2Grmq1erb6KZV1ZWvFWpb2V+P1WK1YqR6wMbXCfqhVS6msJ3uQpemr2i40qtQPalypVmRqByC6bLZ6dVDlsqlSpVb1o5fdVH3RZRsTzb2EoyyV9HUTZnXV/icmsJXkVaoeq6j1bFa9Sn2KXWXgUzyTzMQq7KdaOv4hlq6nslUAmCqmYd+HeFotuQ9SmaL6vlaDHWqxktqtQRDoj9fB+lRL79VsLVOvpcHJ+hDbMWCtlRUSz56+UOpGNoepxNV40ZWO/eugWPsj7inV1INqJeU+2AXobtWjptnSx7S6mSoepA6yn1xOVXh9sKuiLSW2klWrahYuRnE3/XFX3c2WBKtLxaBhXc3G2Ky6+7//UusHm6pL0P95Kx26Kj+3JGc9Bj/G0MXsZkZ1VZKqWqluZlUVpLqWqblraqxUc6kbqTRbiRVT7lpRVYHjFTobq8G+Omwp+d+rsbSqlg4yxWxVPQBhL6VcG2qlpKbgW2JwBOz9WKq6U++zBhfbSbvqzxwVpNxGYjRWlQL2Qa1wGHhx6QqtVnazNEankYZFf2BVGQ68gDQH0s5Z2XSFRfswDtRumnMxaaSMOS5tdVXSlSqNMegNLVSsWFpgmTSYXqtQLxrpKCvjzj6rSo65l1i7sTURkJxrZpGFvknfW1ps0ga7s5gYdm9rJyZ1uhGbGKe7LdNDGcbwDBinO/VsYAlLQjC8rPc/eWeDmQ3/jMjRjMb5ELxwTrCfwG1kRzW/CDZgnJOhYSNyqpCMGChdjFkyDMphnvhzFSYQSkY38jBFDFhXjPZvpDMswwhgNGmX30q7S9AFXX7YeZLyeNDbDbb02J+wopRl+bk0cnZJh11JVx93XZlaMRVLM06h+vGkvnvAVT6CAeWqH9POg4PY1cfsxvuP2Uq8an302AIGSuo5wBIW9QlYGfrk36liLM1ld9HYVwmMcPEgG8vsHviZf2drB9lijCuppXglVUxlnjI45j54BqzIS3zCOVg3srtgMF/vFLMuji2lqrs1a3Y37v5U9WTAhUiV0mBbYyX1j93/rVWMvCQzRLPxZ8AK3sRTSiTAGVSzBx+LJbVYdZfUWrUqFLOActefUWupTyl4V1U/xatgrqpPGglkM8+QlUoZOmqmiMGuGM4J/n+lnvVjlRMOtK8AlhYC30qFQ2+wK45RKxUMqzifNMjryT5ZRyXcq63OMmKdIVA74CgwyHyNB7bghUHjW8BJJwR/YFvrqELMaWR3TJL7icEtYakbhDpmCWNozS3QwKB/wIY+OTn0AbNqY5nWEIONfa3HE2cNpZ9Y5wluopEH/tsR5tl9iiCDJqbpFy4geD5yCqHkU8Bm/b8awVrkKj0h/om7X7QI5tkJc6uPZevTtdNDApcf4gKtZIJBlxF77i5Cf3hk8R9BxJ7iE+sQg4wOKrRAJIDtEZ5dcDy1R3oWSvppJnaOACWNOU9Oji72JnRxcXECPoaVNp4+sDZxdKX8KKwQADyLlKH6F6vz5GLvmMdx2zwF+OPjvYsjcCcEkO/nKN317D4CKWGR0s9SJB0KnRztHeN4AIAugLVRtgAQDohPGMYgF74WYc7EY8AuSzuZJBDQk71jKgCoeBxeFsDCBvjDUQPb8d4Rh8LAp/VjxlN9RImjknlij6VZ+mRvUXKNKRDgAS/7tJ8VQmxifYX8lJDdqkXtF8eIo6axIg4HgL8nT9IUHO1fv9c+gbEYxlrp670xS80z9g7z3hGD0qyP7cAYJ60L9inOE8scHa+N8Z5AX10IKyd5GZM7tRZSgiB0a1TMEISt18e2wBPAgirDj0FZPTb/tnbOIvloG8ucHONPgTql4yP6ccElxrhj62AlLNVHhjs0twdqhno6VviK45NH9iRXcZ1aTkJ6jKfIMVbhgtdzHR5DcM3wPQaVHK9NtGst6/O4EAAk+DkE+J4CwFyD+pGl5FkriVxff7wDDrgAzfIsXL1Hi+9xxiNahsSmzUMlEiFhsRZ0BQnOvcAjrOpKuI/quW7TtQcEobp1K/aWEX19HAg8P1ZQVPzF+mhdWdNgLQblE0bECCEaNNMzi/CUQJTpda89dmI2GUUkdtbrJoKV23sRnBpROH7Mrctct+m6xvWCO8wqgAg/g2k1IByZ3Os1wUI0YBKsTu22MTHMs1scHQI1tVZowGZMyrFkUMmmTxzw9YV66wwF+Ov1JlyzJvVxfI1xO8zJnPA2/sXBwm8crWVwPSZDn6p5KeYE5tr70kCntJbBdRVNYVVK5pcjwATg60JiiQKVQlE8j5QW5aVsFG/z8l7YBHt4arwXPbQNFHrD46g5jz5ozeCghW+1UUdrZACZtLQaKkEkKmbFRWBop06UjsthL98u+OSwTFFnrbatIMPbsNxu84W2HC4UKKrQ5r3hMOyXwzhVCBcoPCzjYbxQkAtUu+CVW2FeR73z16aDPozZMdVp40aFezoEWBe7qy+3JXtPT982iJzvC0Hsh7daua28Eonuvz2N5oitV7K33PS+lQjii69JtLynW8RpW4q0ifx+NCLhw/12mbB88enoAfzatCTT5vIVNdNgMe5Yz/P35iwtWWm+jVqi3tP91laLyEcsYSXSsMhNAHtWCPjKTZ9PaYZl3ynReHvaPLfkpaasgSXCjf2IpXV6qgMWDxw7lxV/zZ3bRtFMmGfeytJ7uvbVmyOieeKz71Q69e43ZSUCYAkNbAvAWmw+m+9V1OtToj5KfiU13+43w5b8K2nMWct5Yz9H2IanXj03JXAsmO23bNpEZZRkUBuvg/VC3/MHsPsNomnbHyoAhG+3t6Zghwgs5eMR2LdK4y3VVob7vjFYImLRwJ4OAayMy7ZFsCgxsGdaSflNVOYmNs19FxhYA+vqzSn7r15pLJX3m15vgVAUDeyrV9BnLcq5D8D6fBJRbp9J5xJ+Wj59VZBenSpan33V3M9Zzs4jehoK6eQjxmlOkjfjq+XYdHKcM3ISvblXTelzM6zkiXz5s89bsESbWwA22jwloM+en3k1sMppTs5JLaV9KilDWWpYNDHebxL7OeXPrX1dMYZua1pJgYZaCfbAZJdlDAMdABsZRpuRLWkrsv+5vd+ytDQFFf3cALAWL0X5XjV9SIx9DULZOjsdNqS2lFfGYCMAlmg3T326YCncZjYEArdiJdiiqdF2gT0yjF+9OcnrjTYb5YjU2G+2t6Azan02+jlsAc56fZSvPHyLwL5tJiJE5LQJ10I6i2p9ttxW9sF0RQ04izruxXjYfvU5ruyyloyphAzjNHb+oc/6AOzn5tvTz1GlaTmztHIaZ0/fIs5Gh7KvLA3DUnkYedV4q0RPm2EiJ+XzCGyu7Dvdz1uGUlOfs0iQbSemRvoYt7QKq8KZ+iZ2SaTjjTQp73ljmPM1huH9V432ab51Gj5t5RpvG+dgQZttX3R/v9U83c81W75oY9jAT3PNM7l5Fj1vNQO5Id6Q9sO8cdh4zJnxpBj3ypHahKmQhz5akm/CKVAjlA9Yg3xf3Mv7oJfi8ORFvjF8CiD32Yd7fV4vhft8ILAg2TgK0mE3zvMBH3wFbpwOCOyZchtXz12L6816XsDqPEbngj8YXkafeXDo4UyB4B0fAMAyQm9DG7TNtjEq8Ppt+N0G9AJIcZSWoLQvDVBLriZ/YmItG2xnZZ2QGcvjnGhiOEUUuUyHYHHt/NAg6/ypGY7R4l5jUYUrZQw2sMea4K27uhwqYam5TZjsqTsRkHG84EOnhc6Mass+qoDkm0efp2cbKGhlBtN/28ybM+1C8dMDZpsF2ugLJpvunscvcDlNxD+Mf0U+lUBT8Fd/zWSg2YY3w1TUh8u8T4buKZ+1W7Zz8PN8MnymZFQvAZyXG5QXdUWvDM8Qt+Je3KsFsnLkHMm3V0Z9W/bi8B0B2euVA14k+XmI/7yyD4Rf08vQK1AULHvHwnJsQoturIjfCVNhwJSxeD4X8UblRqNxNozK0Ubk7DQXbUTb8GjkCsMcjucKrXCk2WhQjWGrFY2Eow3ZGxkOz1rDRriZi0bDUXR4aziMDts52BwdhlvRXGt4buMjBdgIR8EjNyxEh/nzt5GzRiPsG/+0iUDeVV8FdvUgNMfsTbqlbxgZ2qKF83yr4ctHhr5c+xyw/5lvvB16G+HoGe5rwKm3o28bLTAxrUZ7mIOTzZ3JjWak0Tp/e37WsIVzUb6Vz7f+hMPOI+FwbujzwWWQfV/C53LDBhfQNzwvRM7wRi7fyA2/RMbyHDDB2pUZRqK0EizKxGhEFYZnjfwQWGg7PzvPR325QiPckCN5gIw35DNwHiLDSBQf+hp5wNXOD89bYdyXy4HFzYfPcr7z/Jd8rtXwts4AbKsJ3n8hnGuctWEv7s2Fc3JDPs/l8ufn7TN4pk5b+fOwPJWqo1W9FqNXZWZM1I3QU6eYCrd97XA+0sh/kSMtW94Wlgv5M7zQDlN52BfJB2ztsKx9wPORdiESDkRaAPZLBIf27TAfbuORFuwutAuFdjvfOtPyN5Ez2EvxcGQgHwhHvuTge6lWRPbmcR5exuYXx4+ZVWdKV1aBXTkKTTvvbAJKjfG+8JdcnvIiu6nlzkDBaok2tAmHQF3bRCHHwstrWbhWAfSTV8u28byXR9oJ5dpwcC6QDkLNvFQAfR1s5rXW8A0+1CyAcnNjsLbAycpee7KijlFZmW17mJ5AlWu+NUYEKO86rXnKqHVgdRjPrfAXpVVgwXnSPMU7/waxTStLRJbGdv80afHQhabwye7J0ePH1DUcGxnb3dG2SaIW13DfHaJt41c6BOxysITErQALod34rBBEzXtq531I6sDl89mQRFKaw2gL+DRcPhBQyqf5ghQVoHx58JvhankDyDWkvAFeE3feq9lgKsIjJxnlj23gOyMxBl968juFsJfXLLR37MKgUG8pXsy1CuyqMYaxeoJL2wr7wme4t9XIN1oylT+TZbxtw89A3eQDrTBl8+bDsiwX2vmCr93CoTmVz1NyK9r25c6pcAu6XyHfzrd9YdgaBj0HG8L5aKDVlofhQgskQm6127LclluyfBb2RXJhaFXIh72FFj6WrWPn8rgW23giZyGOHQtTu9UID89kbyt69jnfyOfOI7l2w9fONwpgUCONtu9LpFFonJ+dnkULYJ8iX/Kt8/NwNP9Z9oKxBStLyaetJnwJHAiWqJFreWFrs9Aatj+fnUW++ALRs2irlW9F840vDTC7jT8jQzgA/JBWzjuW/usVQfxKzq4CezEGS519aRT+jBa8hVwBDGbuC9jY87D3LDcMn3ubuVzbh54aQ7nxNheJvAX/6DzXyIXBv2h7W61c2BulwP6e8+BpeeHRApfB12q9jeZzcIgM8H3txv+F78wVmpFI7szrBb8jco6f8+dgulsTe7C3wrFY2WeF5WDpSZbN2zpvgOMU5uVhHsCGGxG8FfVRediaQ26DzP/5pdWGN+ArtQFnODJE4t6INGXgIIDI+fAGgD2Ht61IuNCIgM0GDwlcw/Z5CxDxgUauYcudw4UMg//kO2tEWjkc4IIoFCb255hZmlWhrSvArjI93DSBQIED0G5DXAJ9lZepdgFvRcBoQi+Dz+02KBV4wm2F8zY49AUIjqAN9OmCDMfKNhmOtMk8/FHwFlQTNOHhrWwrQCCFeioEAAWwrxAcoC249juyTfsr3CnzpePxGMOtsrPLnQr64t6G8ONhOl6LxHgeFAk/3jqJ7rQdeIHSjAYoVi1ko8ZBGz95Gb/lJ3YFHaG1G3/J3SEaH/nJD9nuE8r4UjnmhBWTI4jl7iIGUbtx6kk/92nU/BkIP17qH69yF4mlgQDDMk+pI35+wpfZWTqUWQ4WFfItActcr1EF//KE25ZGtaHScqjLg3eMuVh9Bj+RcNvesjlf7MrgvbpsdJZ9wdquR9HSEJ5emZZZVvDFOJ9e8IQcZ0qL/6bR2pO+bckC99jqAsbYjvHFwpxPOz0IX8GGXl6+QXR5eSlrYe1TSlnxa+MEMuOprQKb3DHWcPRJ4NFoUSR0efnOQYqkiP41crx7cylTT6gtChzRhqfLrZ5MK7kfLuU7c60eqZ945B1dvrMDUJK0k/NkD76RNVfiMWVygWVuxebKZToUYclaRHuPkThAakNI7QYEgN9dyo8skjs2tj0mBrYsJeMZ/fTeI64+OHlvgoihRmABLgj0G1m/rmA54bwxY607q2s1s8a3K2HWV8agki4dS3DeA7a/wb1rX0rca6xh2A+rR95rS2zPYuneCqg4fvmOJB0mwCK6XF/9Ucbxt5nS+SWzXJxrKhGI/d6AUlomwbO8hb4LER2+DmLcZpxQNbOywZKaeSe+lhrhveYkeBbvJbVkXFYP7JEhazZNFC8umax1Iq+lQ/g3Zpl6RyL5Zj21HDAOBTbMLMeYNSyXOVlHP1H4O3E9pGPmvsPX4G3AZjQPhmMzqyfkgXdsGAqsAxawkmuyVSOHGFxDfgL4hQFnGaSfVoONGwV59JFpsDjCqsc3EtCIYy/KAQ9xsRG0kE3z1piz1tUVFdoii0aVmox5sEiGFw0O4HAE7cFg0OEgg0GwSPBOj7tB0w4GgDXqsyZnRNQN7iFlnrMaX3WY5rg9POwE4anbh8fN4T89Ua8ZQvtUsOzKnMyYavornpsGCwYKsOrxzPFNUZTBN+Vbb3vrWx8eykCXteQ7NAfPxE/xhn3WnzU3iSlpUEPCmgVLvdHXTaTj22GXGH07DAa3D4Pk6XZnq6vXDlq+MTl9xhCsx+RiSUaTmOgjc3qDuhTtugYWge0QXQDq2N4OktvbA+Krkcp+4zUlyYZgzU5isugvJcxZT0x4i+A+y0H9878Du90Tt7f/sm//PdjqGfhYJGnOAOEG2pgtmV1OVL/KjbNem/p5Y2diCpZQxO2trcG2tL3VMXIoxXemnGQjzppfF6ps4DByZlJk/KUB1BkxFu0gwo5tZbtv7DyTb8xY24Cub+wUPOZvDGKQPOZMYKXwJeePwFq63w4dQeiz6OEgDaUA+RYmfu5E70Qx+oPpleuM1jMzM/jBvzH2iBHYHtH5djiAPivCg7TruFBTsOS71dcW53VTqdo6SWapLOjmZujjVcaP5/FlkTr5jSC+ifB0u71lOdzeXh4BkrIJsJxenzWTfrqnrO7SDfTKAQHcu4SxcPrfeyMxOOp2O52v3c5otDxSEE2wVj/hxpbWWW8lrivH9MWq2d68rO9N3PlTpBbXBEWHA4Q6iGIB2KAFBosHIfOzSkfpF0Ott26QojtyyRytFONLXbAOlDBG8MggKTqQ9w9Ix7opiKKg6YeHcFezVreAHsPWW6JPd8iHuV7hw/H6qtjR7QcdvR8/esHRj46jd3sLTyOy3+n2xD7Z6dtH//zT0XVEyFW2NnChl+UGv3itlc0Suvd6WjXWQ13quomOw1cOB7j9h8E+0Q+CTwEOxd9BpX+4PSI6XWIgKco3Pax28nKV9dG1POuu2E1kXYtosVW2ByIAXSk+fKV5ww7HIXEI5nVEfN9WSOUGwG71u8r3rW5PGeiCfbdiHAjXxbre8rAEWv1Kh7UGc0jvKaibI56CBTv76huAFRUI8ToaWGK7q4y2RqNtXSVOkisYe6w3CekRq8PqLQpLHy39aV7WFcYp2I4oEj9ekWPOEn0EtmNRbhT4SOqnLMjlckyBMl4Ey6bXX/c3ppM/NpxFOvlxfSmegCWU7wMCemhT+fYNvKdtDawCryNitH2oL8bgIC/5vYDtRKegz11bf2lYpRR6qNYFxrl0/Q1KN8l2x9mBo6v8pXSbr7aV4PbtNwsSY6W/pYwso7/1+6zd/m7ZXCYb7lwwswLGlR+xEK66MFGNYYznkdoMDc99nxVvtoit/vZ2d0vc7v+zpYEdEdBnO13FwPFyyEsmM+nVV2NmV+OYJULXsRCWZWbAfTIEK0JXtYuH24NvhyC8W6Ptmy6BTI8ivgK8oI2NvMxL47ASD+gEs+iWJ+ujhV6rky13LllmkJeN2HNoUQ63t179/W0bMIM8A3v79q2bf7ZHlkF/a/BNUfS1MbK0S0w7rzNJes0VJu94q+isgbXM+Gi5J12wo36/27vp976O7KNetyv2ICBw9Dqj7qBnH/TIDvhUBowl3ywBe7yontjH3kuAAFv7UE6WJcqNIx4HEMqIwzP6t8++cQTHuw3AvjNyx0FTXiw4xk4z4wC6WC1bRf8CWKexdqSWhnePI9IwFYXj+EIFLsZkHrkkOWEhEguL9KG5aUZwqXcixHJoDAcxjUShzRg9iuEcjkldBfKxJhkKB2qPmpJaQEdqESBqBd/gsGvHkg7Di4sfW+dvrclpq5k9nhaK+zjmOmCkozSwZPe7COA6WhGQiE5Z1N51IYgTteIggNAhg4MBtAiii4O6K9qMLpKjA/GedskGohbskg5DOVpILHJWf/EpN/+QrhbMD2e4xC3/DmLym1GHFIODm44Y7AzsHbHbczgGnWC/5xA7g47o6AzEQac7gmeyM4Amov3Qob2xDwZiJ9iBvXYR7R6g1ss4uzivB+OedGtlIr7zMBvFGKYrKDRy1znsdvrizW0X/gb97m3/xiGCKu53HaPbw15/8P220+/c9PujUb/bH/VvB/ZbeO58vR0ddjqsl1UAAAp0SURBVG573R4o7lG/1xe/dqH1MrCL9V6MmWU4ltCW5f2CsQ0ZFQghsCC5/e6N2Ae8nV7v8Kbb7QY7EKN3vwe/f70Z9Dr9w1432B3A9i7Z7/dvAGyvDxAPu1/JnngDgvG9d9vvBLvdvn0p2MWVSJ5+58PywmgtfWEIFnrZ99u+iKxqv9/pA7TuoC/C50634+iMvorAdeB37+tgBEZWhP090tEf3cCb2y7sFbvdUafTPbzpQese2XMs6bOLhXyep9zTZUwLNztkrnH9cqix6SHHD6Rf7BMNPHUikY7VFO+9ZdHeOuxzfuYAZH96DJgeI8Y+uOsA7X7snTDuiSCy84s5YFjIYGmkuWzbNF84NyiNLkZQpwhs3qUOIuXsmILVDQRwfI9+sDLhBgjxk8FapIUFWDj9Sjd+4i4ijtqDvaB9BJC/d4IOMTgxoGSPtHc738G4BEXN1ID1sYvQhdE7e1DLuMK/GOzdpV4N3EX+wVJ9Qoh7ntu+xx8OTgv6DvI0ECDBfoidbfB9wfD0fvRIsgNqFj6NOrfQj0e9UW8wEjud3gC23nQGvcOOY9T7Tva6YHA6SHWJt3dgDVIVe/NZRY7ZUZ/p9o61h+th6a3Jh+LZseiS3d4h/A+QkgW43e+OfucWcA6QzhrdIPcfVNYITMuteNi7vR1AGABP3f4tRAq9QxHU2u2dTOuPbuHX8/kYxr1m9tSYiOJ8eTnGGPTa4Bis+Hf3n8E/jh4C+/V7pxvsDfpk/6/O4ehHrwN8RRb2VvynI97A0+BW/NFx/EX2v/Y6X7/2un3HIYCd9mL9MqGFqN1ldmlUEyRl5oI9DI3n6ZzDJAdF2kcOkGB7p2PvjTrgCoETCIIKttXeBZsjgiB/7/TtYH47IOAjsMeiYwSy3x2Jf3U7IxKJ/KSwRNRVxgtjdyzzJNdpnoikwGJzaE/0xgaoy4linRm6QZEcOXb+NeOjjfYEyV4nONZGjvFG8s5IoWIp0F+OsYzojUjjgfnaAgbzPOe97QmLujO/pqhuEM/LumHp3RgsObkIEA4EZ0qHHHrDWpMDdPRTIPAgaMfcK6d5rAWWIB4M/jj1BwcelFNoGMSOfRKbO8SvWh0NeTOYFPJpT8F+547zDy6TYzGa5QNgduZU8Y7pBchNw826ZzsKRp/oGEDwoWb9in4P9FGve9sDN3HU+wveo1RMb2DvI6MDBugGTFOfHPw9QoNcsAcOmJMNUXf444iZm8yzU3yW++zOoVXezxe+CTrzXubyiyR5S97e9n90voIduvkK0cDt4Os2wByQN52/+10U9pC3YFIdt2J/0AMlPLglb+bA6lrZB/PvXCVp69nBElJ9XpIZnYVS52pRAUcfcfDHYLtzOPgBTBSBt9//6pFgW0ajw/5N33EbvBXtP8Q+2gRPKNC5J4d9QYrRSoSzM9UZ11Xiue6NPUdSaTbcwxhwLR5eeH4mwUiKA8fAPgKj44BYPDgYkQNwEgfgSTnAUwJbM4JwHf4cdgjcSXEkiujTnHu96CuiFc1mbf4GYH1+pHD5tsqlGccRswonCzkLHp8ZVAYDomVkQB0HSVELALTcg308b2sSJEzboAzO2DLdHe9YnJOAX8zdtcj1IfkSbNXGMRP/nnOTkSP14GyAteQ9Z+waDpSDs4uoplqDKSLlPC6whq2wF+WngqjYYBzr3Qmy+HBUC35sb27REZeQfMSt0sziLc9JssAs3u4Dd9wJMogriWwMicpiBiSItR0EGbFYRDUWveAAAYYQpxd0gHsFIty1i/c2V6d8MbDHzKaK2Q/PE+kY0Xy/ZSD+ecBb6lKcxKKO7ujme/+2+8/o9od90P+nc3h4C/HA7fe+2O8dHo62u4c9UGL97mFf7Nyi0GH0d/evf+7GBhZ67HjltntV7Hqh/jqDtu6Z1RBo+vA8WvzdHWf7Nx3A2O91R8FOf3vU/f591PtKAjaIB7qDfrDbD3ZuHLfdjqPX6UDQA0FA70d3GrYHHywzic/fmknwlx5xb8N10b6f8S4wmjueD4Dwe5+RhDiufwtBTqfn6MAbAAtBLHwCRKCKwZHok+B4dFF+qg+mB96N+v2pW0FePsxRHM8NPe/Uyy+imuZJqc6MyWPWh2jR3KVpAokczwpGCanJHGHYglxj6M72cc/VlDU8YIuozbckp87Tgw4LXuKsd+4uPvFu2KYI/GR1ZyZRQwsPb9TzuNlLD+hBTSoe4K9nnAnMXVW2Xh6rphJiH+5rG2mGe6ClKHnNKXh6NIcVRzJMTzUxbXWx6k8Q4Sng5JxSfiDJPH6pNztpDSLFuTFo3BaYWa6asfrTTxm/WhcrOMrZmXQyur3WzMnhOHX5qKlp92DfPCgumMWKuYuPqyR4LFh4UgW/ddp1aesFf89ctOytwWQXczSfjMFxtDrQ5NIyHOupPV++yTQlSjv3wRZzdDxzgjjPv3m8ID+YC4GDPyxMrR3myfxEEb4jglAO3NMBTYZmT2ZTF/jS8vnlNDvYji4gciWmOSHWnZVezhtejjeeuYNrZZx7eAC/U8vAW8PJDkuhim/uqyjQ7Xf3OHoswwyHeSo/UQsvoFWq1qkR4kI0MPfeBlGP01LgEd/LMB44ProfH6Zd2Z/hNBlhhUei7mEx51gng8XlZ1xl5DiuBRcFu5f3fKUCtj3npO6Zs9LuUvxlYtc1SFEz7rvAS5i9zy5uw9+sY3DHyxnMKCZg610v8VRSv0AJPySwuR8xz9QyMNb72YloffbLoGmwpMbWe53O7zHMVN27/LtgW38xWyeUyLpcmjBjGK3dbhefOgUUMFd3tvcDoCg6eHPPVrDae9f0RAXTflfx5aM5s0RsEcks5pkGJUJo755BPCUbVCHPEgRB72bnfuN7J3fFdR5X0cTNaH4mEZZkVnDTVi1FRNMne8f49B4PFMB1kNPRHB2mosTTFOr4Lgp74PVjEz+YBai/iQDPEFE+YHamk0ZoDjmQ+KQ+jMIv34nTnOKDjgrx7rtLmaKmCtjmvbhmJ05oyM1mTd9J9mcSRAdEOZVxo0WHNPYK13tTHwPdT0BGy3yRk/KSO6h2ByC13XVxcIOPOEHQlDvmcldqzzgU+ZxEjO1uPFvxuOixZaSdR3u8BoFHS2BRuHz55l3QMVnry44WNbvEtcWpxzf/4I8v0JLFGFLqrJ8rxpTJF/+2tFVWP3E74+FcFnTz0d4xNTG9CDCPyxPSlq6+dyH4vQuOmdwbzbVD11O/KVNnCSkTJaEWPW6XxiPgEndytKdNpAho+gc0NVopdrqIeQC2Hu9dXDtpxhoKYQy94d6sp5KK1i9+NRqTVFaLgnuHpUPcJA69vtg7PkYmKXBHyEnScE7NDM363UJd/X2MqkkCpijJ1Kc0u+N3sVoHphmGCTmd1ydHE7p2OsFFgujQitwR1u9nK/VqUtn65R7w2jTRV1JSrdbT9A6CTFud6FZgLA0QaeRagjMIYsu6XC434NxVk+WJOvpPA3tPhFJOxlK7xVKa82y6gTwa+f1u9+am25kuFbO1WLL8G7j5z0FIKkHZKFI5kYyrqdrBmGopNZ5MlCWFGDf41af5X/ov/Zd+F/p/bzS5jYZq9GIAAAAASUVORK5CYII=\"/>\n",
        "\n",
        "**What is Machine Learning?**\n",
        "\n",
        "- Machine learning is a branch of artificial intelligence in which a machine learns through data the different features on its own without being programmed by a computer programmer. \n",
        "\n",
        "\n",
        "With machine learning, the machine learning will figure out what to do itself, using the inputs we feed it.\n",
        "    \n",
        "- First, the algorithmic models are **trained** to perform some specific tasks learning patterns from the data it sees, rather than through computer programming by a human expert.\n",
        "\n",
        "- After training, our model is ready for making predictions for any new unknown input.\n",
        "\n",
        "\n",
        "There are many machine learning models or algorithms to do this kind of prediction. One of them is **Random Forest Classifier**. \n",
        "\n",
        "---\n",
        "**Random Forest Classifier:**\n",
        "\n",
        "- It is used to classify outcomes into classes (or labels) based on some features. \n",
        "- For e.g., an animal that makes a 'Meow! Meow!' sound is classified (or labelled) as a cat, an animal that makes a 'Woof! Woof!' sound is classified as a dog, an animal which makes a hissing sound is classified as a snake etc.\n",
        "- It uses the training data to learn how the given features relate to a particular class. \n",
        "- **For example:** A classifier can classify a given set of audio data into following two classes:\n",
        "  - Those who are male.\n",
        "  - Those who are not male (or female).\n",
        "\n",
        "  on the basis of different features of the population such as pitch, frequency etc. \n",
        "\n",
        "\n",
        "In this lesson, we will use the Random Forest Classifier model to classify whether a audio frequency belongs to male or female. \n",
        "\n"
      ]
    },
    {
      "cell_type": "code",
      "source": [],
      "metadata": {
        "id": "Lo3s1miN6sm7"
      },
      "execution_count": null,
      "outputs": []
    },
    {
      "cell_type": "code",
      "source": [],
      "metadata": {
        "id": "3ONViLJQ6s7T"
      },
      "execution_count": null,
      "outputs": []
    },
    {
      "cell_type": "code",
      "source": [],
      "metadata": {
        "id": "M65fciuA6uKO"
      },
      "execution_count": null,
      "outputs": []
    },
    {
      "cell_type": "markdown",
      "metadata": {
        "id": "CmnfQSircLEN"
      },
      "source": [
        "# Gender Voices Classification using Random Forest Classifier\n",
        "\n",
        ">\n",
        "\n"
      ]
    },
    {
      "cell_type": "markdown",
      "metadata": {
        "id": "1e2xVjjhcPJM"
      },
      "source": [
        "### Overview\n",
        "\n",
        "You are provided with a dataset which contains some statistical information about the audio frequencies of different male and female voices. Based on the information provided, you have to find out which voice belongs to which gender using the `RandomForestClassifier` algorithm.\n",
        "\n",
        "https://www.kaggle.com/datasets/primaryobjects/voicegender?resource=download\n",
        "\n",
        "\n",
        "Please note that\n",
        "\n",
        "1. In the `label` column, `0` denotes the male class and `1` denotes the female class.\n",
        "\n",
        "2. You are not required to know the meaning of all the other attributes in the dataset. You just need to deploy a prediction model with these attributes as the feature variables and the `label` column as the target variable. \n",
        "\n",
        "You can get the datasets from the following links:\n",
        "\n",
        " https://www.kaggle.com/datasets/primaryobjects/voicegender/download?datasetVersionNumber=1"
      ]
    },
    {
      "cell_type": "markdown",
      "metadata": {
        "id": "_F-OALfPcTJa"
      },
      "source": [
        "---"
      ]
    },
    {
      "cell_type": "markdown",
      "metadata": {
        "id": "WWYYVXmiWA2U"
      },
      "source": [
        "#### 1. Create The DataFrames\n",
        "\n",
        "Create the Pandas DataFrames for the datasets."
      ]
    },
    {
      "cell_type": "code",
      "metadata": {
        "id": "FcPnUmo26rpg",
        "colab": {
          "base_uri": "https://localhost:8080/",
          "height": 488
        },
        "outputId": "d99f145c-db27-434d-b3f1-8669f9103318"
      },
      "source": [
        "\n",
        "# Create the DataFrames and store them \"df\" variables.\n",
        "import pandas as pd\n",
        "df = pd.read_csv(\"voice.csv\")\n",
        "df"
      ],
      "execution_count": 2,
      "outputs": [
        {
          "output_type": "execute_result",
          "data": {
            "text/plain": [
              "      meanfreq        sd    median       Q25       Q75       IQR       skew  \\\n",
              "0     0.059781  0.064241  0.032027  0.015071  0.090193  0.075122  12.863462   \n",
              "1     0.066009  0.067310  0.040229  0.019414  0.092666  0.073252  22.423285   \n",
              "2     0.077316  0.083829  0.036718  0.008701  0.131908  0.123207  30.757155   \n",
              "3     0.151228  0.072111  0.158011  0.096582  0.207955  0.111374   1.232831   \n",
              "4     0.135120  0.079146  0.124656  0.078720  0.206045  0.127325   1.101174   \n",
              "...        ...       ...       ...       ...       ...       ...        ...   \n",
              "3163  0.131884  0.084734  0.153707  0.049285  0.201144  0.151859   1.762129   \n",
              "3164  0.116221  0.089221  0.076758  0.042718  0.204911  0.162193   0.693730   \n",
              "3165  0.142056  0.095798  0.183731  0.033424  0.224360  0.190936   1.876502   \n",
              "3166  0.143659  0.090628  0.184976  0.043508  0.219943  0.176435   1.591065   \n",
              "3167  0.165509  0.092884  0.183044  0.070072  0.250827  0.180756   1.705029   \n",
              "\n",
              "             kurt    sp.ent       sfm  ...  centroid   meanfun    minfun  \\\n",
              "0      274.402906  0.893369  0.491918  ...  0.059781  0.084279  0.015702   \n",
              "1      634.613855  0.892193  0.513724  ...  0.066009  0.107937  0.015826   \n",
              "2     1024.927705  0.846389  0.478905  ...  0.077316  0.098706  0.015656   \n",
              "3        4.177296  0.963322  0.727232  ...  0.151228  0.088965  0.017798   \n",
              "4        4.333713  0.971955  0.783568  ...  0.135120  0.106398  0.016931   \n",
              "...           ...       ...       ...  ...       ...       ...       ...   \n",
              "3163     6.630383  0.962934  0.763182  ...  0.131884  0.182790  0.083770   \n",
              "3164     2.503954  0.960716  0.709570  ...  0.116221  0.188980  0.034409   \n",
              "3165     6.604509  0.946854  0.654196  ...  0.142056  0.209918  0.039506   \n",
              "3166     5.388298  0.950436  0.675470  ...  0.143659  0.172375  0.034483   \n",
              "3167     5.769115  0.938829  0.601529  ...  0.165509  0.185607  0.062257   \n",
              "\n",
              "        maxfun   meandom    mindom    maxdom   dfrange   modindx   label  \n",
              "0     0.275862  0.007812  0.007812  0.007812  0.000000  0.000000    male  \n",
              "1     0.250000  0.009014  0.007812  0.054688  0.046875  0.052632    male  \n",
              "2     0.271186  0.007990  0.007812  0.015625  0.007812  0.046512    male  \n",
              "3     0.250000  0.201497  0.007812  0.562500  0.554688  0.247119    male  \n",
              "4     0.266667  0.712812  0.007812  5.484375  5.476562  0.208274    male  \n",
              "...        ...       ...       ...       ...       ...       ...     ...  \n",
              "3163  0.262295  0.832899  0.007812  4.210938  4.203125  0.161929  female  \n",
              "3164  0.275862  0.909856  0.039062  3.679688  3.640625  0.277897  female  \n",
              "3165  0.275862  0.494271  0.007812  2.937500  2.929688  0.194759  female  \n",
              "3166  0.250000  0.791360  0.007812  3.593750  3.585938  0.311002  female  \n",
              "3167  0.271186  0.227022  0.007812  0.554688  0.546875  0.350000  female  \n",
              "\n",
              "[3168 rows x 21 columns]"
            ],
            "text/html": [
              "\n",
              "  <div id=\"df-8ad515e0-d537-44dc-bbd1-eb9a288c0773\">\n",
              "    <div class=\"colab-df-container\">\n",
              "      <div>\n",
              "<style scoped>\n",
              "    .dataframe tbody tr th:only-of-type {\n",
              "        vertical-align: middle;\n",
              "    }\n",
              "\n",
              "    .dataframe tbody tr th {\n",
              "        vertical-align: top;\n",
              "    }\n",
              "\n",
              "    .dataframe thead th {\n",
              "        text-align: right;\n",
              "    }\n",
              "</style>\n",
              "<table border=\"1\" class=\"dataframe\">\n",
              "  <thead>\n",
              "    <tr style=\"text-align: right;\">\n",
              "      <th></th>\n",
              "      <th>meanfreq</th>\n",
              "      <th>sd</th>\n",
              "      <th>median</th>\n",
              "      <th>Q25</th>\n",
              "      <th>Q75</th>\n",
              "      <th>IQR</th>\n",
              "      <th>skew</th>\n",
              "      <th>kurt</th>\n",
              "      <th>sp.ent</th>\n",
              "      <th>sfm</th>\n",
              "      <th>...</th>\n",
              "      <th>centroid</th>\n",
              "      <th>meanfun</th>\n",
              "      <th>minfun</th>\n",
              "      <th>maxfun</th>\n",
              "      <th>meandom</th>\n",
              "      <th>mindom</th>\n",
              "      <th>maxdom</th>\n",
              "      <th>dfrange</th>\n",
              "      <th>modindx</th>\n",
              "      <th>label</th>\n",
              "    </tr>\n",
              "  </thead>\n",
              "  <tbody>\n",
              "    <tr>\n",
              "      <th>0</th>\n",
              "      <td>0.059781</td>\n",
              "      <td>0.064241</td>\n",
              "      <td>0.032027</td>\n",
              "      <td>0.015071</td>\n",
              "      <td>0.090193</td>\n",
              "      <td>0.075122</td>\n",
              "      <td>12.863462</td>\n",
              "      <td>274.402906</td>\n",
              "      <td>0.893369</td>\n",
              "      <td>0.491918</td>\n",
              "      <td>...</td>\n",
              "      <td>0.059781</td>\n",
              "      <td>0.084279</td>\n",
              "      <td>0.015702</td>\n",
              "      <td>0.275862</td>\n",
              "      <td>0.007812</td>\n",
              "      <td>0.007812</td>\n",
              "      <td>0.007812</td>\n",
              "      <td>0.000000</td>\n",
              "      <td>0.000000</td>\n",
              "      <td>male</td>\n",
              "    </tr>\n",
              "    <tr>\n",
              "      <th>1</th>\n",
              "      <td>0.066009</td>\n",
              "      <td>0.067310</td>\n",
              "      <td>0.040229</td>\n",
              "      <td>0.019414</td>\n",
              "      <td>0.092666</td>\n",
              "      <td>0.073252</td>\n",
              "      <td>22.423285</td>\n",
              "      <td>634.613855</td>\n",
              "      <td>0.892193</td>\n",
              "      <td>0.513724</td>\n",
              "      <td>...</td>\n",
              "      <td>0.066009</td>\n",
              "      <td>0.107937</td>\n",
              "      <td>0.015826</td>\n",
              "      <td>0.250000</td>\n",
              "      <td>0.009014</td>\n",
              "      <td>0.007812</td>\n",
              "      <td>0.054688</td>\n",
              "      <td>0.046875</td>\n",
              "      <td>0.052632</td>\n",
              "      <td>male</td>\n",
              "    </tr>\n",
              "    <tr>\n",
              "      <th>2</th>\n",
              "      <td>0.077316</td>\n",
              "      <td>0.083829</td>\n",
              "      <td>0.036718</td>\n",
              "      <td>0.008701</td>\n",
              "      <td>0.131908</td>\n",
              "      <td>0.123207</td>\n",
              "      <td>30.757155</td>\n",
              "      <td>1024.927705</td>\n",
              "      <td>0.846389</td>\n",
              "      <td>0.478905</td>\n",
              "      <td>...</td>\n",
              "      <td>0.077316</td>\n",
              "      <td>0.098706</td>\n",
              "      <td>0.015656</td>\n",
              "      <td>0.271186</td>\n",
              "      <td>0.007990</td>\n",
              "      <td>0.007812</td>\n",
              "      <td>0.015625</td>\n",
              "      <td>0.007812</td>\n",
              "      <td>0.046512</td>\n",
              "      <td>male</td>\n",
              "    </tr>\n",
              "    <tr>\n",
              "      <th>3</th>\n",
              "      <td>0.151228</td>\n",
              "      <td>0.072111</td>\n",
              "      <td>0.158011</td>\n",
              "      <td>0.096582</td>\n",
              "      <td>0.207955</td>\n",
              "      <td>0.111374</td>\n",
              "      <td>1.232831</td>\n",
              "      <td>4.177296</td>\n",
              "      <td>0.963322</td>\n",
              "      <td>0.727232</td>\n",
              "      <td>...</td>\n",
              "      <td>0.151228</td>\n",
              "      <td>0.088965</td>\n",
              "      <td>0.017798</td>\n",
              "      <td>0.250000</td>\n",
              "      <td>0.201497</td>\n",
              "      <td>0.007812</td>\n",
              "      <td>0.562500</td>\n",
              "      <td>0.554688</td>\n",
              "      <td>0.247119</td>\n",
              "      <td>male</td>\n",
              "    </tr>\n",
              "    <tr>\n",
              "      <th>4</th>\n",
              "      <td>0.135120</td>\n",
              "      <td>0.079146</td>\n",
              "      <td>0.124656</td>\n",
              "      <td>0.078720</td>\n",
              "      <td>0.206045</td>\n",
              "      <td>0.127325</td>\n",
              "      <td>1.101174</td>\n",
              "      <td>4.333713</td>\n",
              "      <td>0.971955</td>\n",
              "      <td>0.783568</td>\n",
              "      <td>...</td>\n",
              "      <td>0.135120</td>\n",
              "      <td>0.106398</td>\n",
              "      <td>0.016931</td>\n",
              "      <td>0.266667</td>\n",
              "      <td>0.712812</td>\n",
              "      <td>0.007812</td>\n",
              "      <td>5.484375</td>\n",
              "      <td>5.476562</td>\n",
              "      <td>0.208274</td>\n",
              "      <td>male</td>\n",
              "    </tr>\n",
              "    <tr>\n",
              "      <th>...</th>\n",
              "      <td>...</td>\n",
              "      <td>...</td>\n",
              "      <td>...</td>\n",
              "      <td>...</td>\n",
              "      <td>...</td>\n",
              "      <td>...</td>\n",
              "      <td>...</td>\n",
              "      <td>...</td>\n",
              "      <td>...</td>\n",
              "      <td>...</td>\n",
              "      <td>...</td>\n",
              "      <td>...</td>\n",
              "      <td>...</td>\n",
              "      <td>...</td>\n",
              "      <td>...</td>\n",
              "      <td>...</td>\n",
              "      <td>...</td>\n",
              "      <td>...</td>\n",
              "      <td>...</td>\n",
              "      <td>...</td>\n",
              "      <td>...</td>\n",
              "    </tr>\n",
              "    <tr>\n",
              "      <th>3163</th>\n",
              "      <td>0.131884</td>\n",
              "      <td>0.084734</td>\n",
              "      <td>0.153707</td>\n",
              "      <td>0.049285</td>\n",
              "      <td>0.201144</td>\n",
              "      <td>0.151859</td>\n",
              "      <td>1.762129</td>\n",
              "      <td>6.630383</td>\n",
              "      <td>0.962934</td>\n",
              "      <td>0.763182</td>\n",
              "      <td>...</td>\n",
              "      <td>0.131884</td>\n",
              "      <td>0.182790</td>\n",
              "      <td>0.083770</td>\n",
              "      <td>0.262295</td>\n",
              "      <td>0.832899</td>\n",
              "      <td>0.007812</td>\n",
              "      <td>4.210938</td>\n",
              "      <td>4.203125</td>\n",
              "      <td>0.161929</td>\n",
              "      <td>female</td>\n",
              "    </tr>\n",
              "    <tr>\n",
              "      <th>3164</th>\n",
              "      <td>0.116221</td>\n",
              "      <td>0.089221</td>\n",
              "      <td>0.076758</td>\n",
              "      <td>0.042718</td>\n",
              "      <td>0.204911</td>\n",
              "      <td>0.162193</td>\n",
              "      <td>0.693730</td>\n",
              "      <td>2.503954</td>\n",
              "      <td>0.960716</td>\n",
              "      <td>0.709570</td>\n",
              "      <td>...</td>\n",
              "      <td>0.116221</td>\n",
              "      <td>0.188980</td>\n",
              "      <td>0.034409</td>\n",
              "      <td>0.275862</td>\n",
              "      <td>0.909856</td>\n",
              "      <td>0.039062</td>\n",
              "      <td>3.679688</td>\n",
              "      <td>3.640625</td>\n",
              "      <td>0.277897</td>\n",
              "      <td>female</td>\n",
              "    </tr>\n",
              "    <tr>\n",
              "      <th>3165</th>\n",
              "      <td>0.142056</td>\n",
              "      <td>0.095798</td>\n",
              "      <td>0.183731</td>\n",
              "      <td>0.033424</td>\n",
              "      <td>0.224360</td>\n",
              "      <td>0.190936</td>\n",
              "      <td>1.876502</td>\n",
              "      <td>6.604509</td>\n",
              "      <td>0.946854</td>\n",
              "      <td>0.654196</td>\n",
              "      <td>...</td>\n",
              "      <td>0.142056</td>\n",
              "      <td>0.209918</td>\n",
              "      <td>0.039506</td>\n",
              "      <td>0.275862</td>\n",
              "      <td>0.494271</td>\n",
              "      <td>0.007812</td>\n",
              "      <td>2.937500</td>\n",
              "      <td>2.929688</td>\n",
              "      <td>0.194759</td>\n",
              "      <td>female</td>\n",
              "    </tr>\n",
              "    <tr>\n",
              "      <th>3166</th>\n",
              "      <td>0.143659</td>\n",
              "      <td>0.090628</td>\n",
              "      <td>0.184976</td>\n",
              "      <td>0.043508</td>\n",
              "      <td>0.219943</td>\n",
              "      <td>0.176435</td>\n",
              "      <td>1.591065</td>\n",
              "      <td>5.388298</td>\n",
              "      <td>0.950436</td>\n",
              "      <td>0.675470</td>\n",
              "      <td>...</td>\n",
              "      <td>0.143659</td>\n",
              "      <td>0.172375</td>\n",
              "      <td>0.034483</td>\n",
              "      <td>0.250000</td>\n",
              "      <td>0.791360</td>\n",
              "      <td>0.007812</td>\n",
              "      <td>3.593750</td>\n",
              "      <td>3.585938</td>\n",
              "      <td>0.311002</td>\n",
              "      <td>female</td>\n",
              "    </tr>\n",
              "    <tr>\n",
              "      <th>3167</th>\n",
              "      <td>0.165509</td>\n",
              "      <td>0.092884</td>\n",
              "      <td>0.183044</td>\n",
              "      <td>0.070072</td>\n",
              "      <td>0.250827</td>\n",
              "      <td>0.180756</td>\n",
              "      <td>1.705029</td>\n",
              "      <td>5.769115</td>\n",
              "      <td>0.938829</td>\n",
              "      <td>0.601529</td>\n",
              "      <td>...</td>\n",
              "      <td>0.165509</td>\n",
              "      <td>0.185607</td>\n",
              "      <td>0.062257</td>\n",
              "      <td>0.271186</td>\n",
              "      <td>0.227022</td>\n",
              "      <td>0.007812</td>\n",
              "      <td>0.554688</td>\n",
              "      <td>0.546875</td>\n",
              "      <td>0.350000</td>\n",
              "      <td>female</td>\n",
              "    </tr>\n",
              "  </tbody>\n",
              "</table>\n",
              "<p>3168 rows × 21 columns</p>\n",
              "</div>\n",
              "      <button class=\"colab-df-convert\" onclick=\"convertToInteractive('df-8ad515e0-d537-44dc-bbd1-eb9a288c0773')\"\n",
              "              title=\"Convert this dataframe to an interactive table.\"\n",
              "              style=\"display:none;\">\n",
              "        \n",
              "  <svg xmlns=\"http://www.w3.org/2000/svg\" height=\"24px\"viewBox=\"0 0 24 24\"\n",
              "       width=\"24px\">\n",
              "    <path d=\"M0 0h24v24H0V0z\" fill=\"none\"/>\n",
              "    <path d=\"M18.56 5.44l.94 2.06.94-2.06 2.06-.94-2.06-.94-.94-2.06-.94 2.06-2.06.94zm-11 1L8.5 8.5l.94-2.06 2.06-.94-2.06-.94L8.5 2.5l-.94 2.06-2.06.94zm10 10l.94 2.06.94-2.06 2.06-.94-2.06-.94-.94-2.06-.94 2.06-2.06.94z\"/><path d=\"M17.41 7.96l-1.37-1.37c-.4-.4-.92-.59-1.43-.59-.52 0-1.04.2-1.43.59L10.3 9.45l-7.72 7.72c-.78.78-.78 2.05 0 2.83L4 21.41c.39.39.9.59 1.41.59.51 0 1.02-.2 1.41-.59l7.78-7.78 2.81-2.81c.8-.78.8-2.07 0-2.86zM5.41 20L4 18.59l7.72-7.72 1.47 1.35L5.41 20z\"/>\n",
              "  </svg>\n",
              "      </button>\n",
              "      \n",
              "  <style>\n",
              "    .colab-df-container {\n",
              "      display:flex;\n",
              "      flex-wrap:wrap;\n",
              "      gap: 12px;\n",
              "    }\n",
              "\n",
              "    .colab-df-convert {\n",
              "      background-color: #E8F0FE;\n",
              "      border: none;\n",
              "      border-radius: 50%;\n",
              "      cursor: pointer;\n",
              "      display: none;\n",
              "      fill: #1967D2;\n",
              "      height: 32px;\n",
              "      padding: 0 0 0 0;\n",
              "      width: 32px;\n",
              "    }\n",
              "\n",
              "    .colab-df-convert:hover {\n",
              "      background-color: #E2EBFA;\n",
              "      box-shadow: 0px 1px 2px rgba(60, 64, 67, 0.3), 0px 1px 3px 1px rgba(60, 64, 67, 0.15);\n",
              "      fill: #174EA6;\n",
              "    }\n",
              "\n",
              "    [theme=dark] .colab-df-convert {\n",
              "      background-color: #3B4455;\n",
              "      fill: #D2E3FC;\n",
              "    }\n",
              "\n",
              "    [theme=dark] .colab-df-convert:hover {\n",
              "      background-color: #434B5C;\n",
              "      box-shadow: 0px 1px 3px 1px rgba(0, 0, 0, 0.15);\n",
              "      filter: drop-shadow(0px 1px 2px rgba(0, 0, 0, 0.3));\n",
              "      fill: #FFFFFF;\n",
              "    }\n",
              "  </style>\n",
              "\n",
              "      <script>\n",
              "        const buttonEl =\n",
              "          document.querySelector('#df-8ad515e0-d537-44dc-bbd1-eb9a288c0773 button.colab-df-convert');\n",
              "        buttonEl.style.display =\n",
              "          google.colab.kernel.accessAllowed ? 'block' : 'none';\n",
              "\n",
              "        async function convertToInteractive(key) {\n",
              "          const element = document.querySelector('#df-8ad515e0-d537-44dc-bbd1-eb9a288c0773');\n",
              "          const dataTable =\n",
              "            await google.colab.kernel.invokeFunction('convertToInteractive',\n",
              "                                                     [key], {});\n",
              "          if (!dataTable) return;\n",
              "\n",
              "          const docLinkHtml = 'Like what you see? Visit the ' +\n",
              "            '<a target=\"_blank\" href=https://colab.research.google.com/notebooks/data_table.ipynb>data table notebook</a>'\n",
              "            + ' to learn more about interactive tables.';\n",
              "          element.innerHTML = '';\n",
              "          dataTable['output_type'] = 'display_data';\n",
              "          await google.colab.output.renderOutput(dataTable, element);\n",
              "          const docLink = document.createElement('div');\n",
              "          docLink.innerHTML = docLinkHtml;\n",
              "          element.appendChild(docLink);\n",
              "        }\n",
              "      </script>\n",
              "    </div>\n",
              "  </div>\n",
              "  "
            ]
          },
          "metadata": {},
          "execution_count": 2
        }
      ]
    },
    {
      "cell_type": "markdown",
      "metadata": {
        "id": "vRmVd-pzgcu_"
      },
      "source": [
        "#### 2. Display First Five Rows\n",
        "\n",
        "Display the first five rows the DataFrames using head() function."
      ]
    },
    {
      "cell_type": "code",
      "metadata": {
        "id": "ACRMQ_vbWozF"
      },
      "source": [
        "# Display the first 5 rows of the 'train_df' DataFrame.\n",
        "df.head()"
      ],
      "execution_count": null,
      "outputs": []
    },
    {
      "cell_type": "markdown",
      "metadata": {
        "id": "52J9hBwPWTbU"
      },
      "source": [
        "---"
      ]
    },
    {
      "cell_type": "markdown",
      "metadata": {
        "id": "HK98NjiBGrOf"
      },
      "source": [
        "#### 3. Display Last Five Rows\n",
        "\n",
        "Display the last five rows of DataFrames."
      ]
    },
    {
      "cell_type": "code",
      "metadata": {
        "id": "nkMqKkKgGyxd",
        "colab": {
          "base_uri": "https://localhost:8080/",
          "height": 130
        },
        "outputId": "eeb86974-613b-4a34-e5de-846a3e38c0f8"
      },
      "source": [
        "# Display the last 5 rows of the 'train_df' DataFrame.\n",
        "  df.tail()"
      ],
      "execution_count": 22,
      "outputs": [
        {
          "output_type": "error",
          "ename": "IndentationError",
          "evalue": "ignored",
          "traceback": [
            "\u001b[0;36m  File \u001b[0;32m\"<ipython-input-22-85a8442b598d>\"\u001b[0;36m, line \u001b[0;32m2\u001b[0m\n\u001b[0;31m    df.tail()\u001b[0m\n\u001b[0m    ^\u001b[0m\n\u001b[0;31mIndentationError\u001b[0m\u001b[0;31m:\u001b[0m unexpected indent\n"
          ]
        }
      ]
    },
    {
      "cell_type": "markdown",
      "metadata": {
        "id": "xWZH9p5FGqc-"
      },
      "source": [
        "---"
      ]
    },
    {
      "cell_type": "markdown",
      "metadata": {
        "id": "gGYkD2qwWSvO"
      },
      "source": [
        "#### 4. Rows & Columns In Train DataFrame\n",
        "\n",
        "Find the number of rows and columns in DataFrames."
      ]
    },
    {
      "cell_type": "code",
      "metadata": {
        "id": "tQeowD6QMgZT",
        "colab": {
          "base_uri": "https://localhost:8080/"
        },
        "outputId": "d4ad3a07-8bce-4aae-bb13-c8e05e236347"
      },
      "source": [
        "# Print the number of rows and columns in both the DataFrames.\n",
        "df.shape\n"
      ],
      "execution_count": 5,
      "outputs": [
        {
          "output_type": "execute_result",
          "data": {
            "text/plain": [
              "(3168, 21)"
            ]
          },
          "metadata": {},
          "execution_count": 5
        }
      ]
    },
    {
      "cell_type": "markdown",
      "source": [
        "Once the data set is loaded we will check if there is any missing values using the isnull() function. In case of missing values we have to remove or replace the missing values with mean or median of the dataset. "
      ],
      "metadata": {
        "id": "O2p2KtdL7oxI"
      }
    },
    {
      "cell_type": "markdown",
      "metadata": {
        "id": "5SMkQqLOWaZf"
      },
      "source": [
        "---"
      ]
    },
    {
      "cell_type": "markdown",
      "metadata": {
        "id": "Pk824C11Wbe8"
      },
      "source": [
        "#### 5. Check For Missing Values \n",
        "\n",
        "Check whether any of the columns in the DataFrames has any missing value."
      ]
    },
    {
      "cell_type": "code",
      "metadata": {
        "id": "_pkyxjiSNhMd",
        "colab": {
          "base_uri": "https://localhost:8080/"
        },
        "outputId": "28837a4a-9e0a-4416-fd3f-8fea77b078f4"
      },
      "source": [
        "# Check for the missing values in the 'train_df' DataFrame.\n",
        "df.isnull().sum()"
      ],
      "execution_count": 8,
      "outputs": [
        {
          "output_type": "execute_result",
          "data": {
            "text/plain": [
              "meanfreq    0\n",
              "sd          0\n",
              "median      0\n",
              "Q25         0\n",
              "Q75         0\n",
              "IQR         0\n",
              "skew        0\n",
              "kurt        0\n",
              "sp.ent      0\n",
              "sfm         0\n",
              "mode        0\n",
              "centroid    0\n",
              "meanfun     0\n",
              "minfun      0\n",
              "maxfun      0\n",
              "meandom     0\n",
              "mindom      0\n",
              "maxdom      0\n",
              "dfrange     0\n",
              "modindx     0\n",
              "label       0\n",
              "dtype: int64"
            ]
          },
          "metadata": {},
          "execution_count": 8
        }
      ]
    },
    {
      "cell_type": "code",
      "source": [
        "# Check the datatype of all the columns of the dataset\n",
        "df.info()"
      ],
      "metadata": {
        "id": "JrxyHCrlCMH1",
        "colab": {
          "base_uri": "https://localhost:8080/"
        },
        "outputId": "f94a0d76-c031-499c-dd48-f90ed8d95945"
      },
      "execution_count": 9,
      "outputs": [
        {
          "output_type": "stream",
          "name": "stdout",
          "text": [
            "<class 'pandas.core.frame.DataFrame'>\n",
            "RangeIndex: 3168 entries, 0 to 3167\n",
            "Data columns (total 21 columns):\n",
            " #   Column    Non-Null Count  Dtype  \n",
            "---  ------    --------------  -----  \n",
            " 0   meanfreq  3168 non-null   float64\n",
            " 1   sd        3168 non-null   float64\n",
            " 2   median    3168 non-null   float64\n",
            " 3   Q25       3168 non-null   float64\n",
            " 4   Q75       3168 non-null   float64\n",
            " 5   IQR       3168 non-null   float64\n",
            " 6   skew      3168 non-null   float64\n",
            " 7   kurt      3168 non-null   float64\n",
            " 8   sp.ent    3168 non-null   float64\n",
            " 9   sfm       3168 non-null   float64\n",
            " 10  mode      3168 non-null   float64\n",
            " 11  centroid  3168 non-null   float64\n",
            " 12  meanfun   3168 non-null   float64\n",
            " 13  minfun    3168 non-null   float64\n",
            " 14  maxfun    3168 non-null   float64\n",
            " 15  meandom   3168 non-null   float64\n",
            " 16  mindom    3168 non-null   float64\n",
            " 17  maxdom    3168 non-null   float64\n",
            " 18  dfrange   3168 non-null   float64\n",
            " 19  modindx   3168 non-null   float64\n",
            " 20  label     3168 non-null   object \n",
            "dtypes: float64(20), object(1)\n",
            "memory usage: 519.9+ KB\n"
          ]
        }
      ]
    },
    {
      "cell_type": "markdown",
      "metadata": {
        "id": "20AKOJSKW4_w"
      },
      "source": [
        "---"
      ]
    },
    {
      "cell_type": "markdown",
      "source": [
        "Here, we can observe that the label columns conatins categorical data i.e. male and female. As this is an example of Binary classification where we have only 2 classes so we will convert the labels into class 0 and 1 where 0 represents Male and 1 represents Female using replace() function.\n",
        "\n",
        "For Example: \n",
        "\n",
        "<img src=\"https://static.javatpoint.com/tutorial/machine-learning/images/classification-algorithm-in-machine-learning.png\"/>"
      ],
      "metadata": {
        "id": "XhW87Zm1B9Jb"
      }
    },
    {
      "cell_type": "markdown",
      "metadata": {
        "id": "WiIDT8mFW55v"
      },
      "source": [
        "#### 6. Count The `male` & `female` Classes\n",
        "\n",
        "Find out the number of `male` and `female` values in both the `train_df` and `test_df` DataFrames."
      ]
    },
    {
      "cell_type": "code",
      "metadata": {
        "id": "j_CldNLAXDhp",
        "colab": {
          "base_uri": "https://localhost:8080/",
          "height": 502
        },
        "outputId": "d9fd5c5f-2c76-42e1-a642-8d9a9dbf4e8f"
      },
      "source": [
        "# Print the count of the 'male' and 'female' classes in the  DataFrame.\n",
        "df[\"label\"].value_counts(df[\"1\"])"
      ],
      "execution_count": 28,
      "outputs": [
        {
          "output_type": "error",
          "ename": "KeyError",
          "evalue": "ignored",
          "traceback": [
            "\u001b[0;31m---------------------------------------------------------------------------\u001b[0m",
            "\u001b[0;31mKeyError\u001b[0m                                  Traceback (most recent call last)",
            "\u001b[0;32m/usr/local/lib/python3.8/dist-packages/pandas/core/indexes/base.py\u001b[0m in \u001b[0;36mget_loc\u001b[0;34m(self, key, method, tolerance)\u001b[0m\n\u001b[1;32m   3360\u001b[0m             \u001b[0;32mtry\u001b[0m\u001b[0;34m:\u001b[0m\u001b[0;34m\u001b[0m\u001b[0;34m\u001b[0m\u001b[0m\n\u001b[0;32m-> 3361\u001b[0;31m                 \u001b[0;32mreturn\u001b[0m \u001b[0mself\u001b[0m\u001b[0;34m.\u001b[0m\u001b[0m_engine\u001b[0m\u001b[0;34m.\u001b[0m\u001b[0mget_loc\u001b[0m\u001b[0;34m(\u001b[0m\u001b[0mcasted_key\u001b[0m\u001b[0;34m)\u001b[0m\u001b[0;34m\u001b[0m\u001b[0;34m\u001b[0m\u001b[0m\n\u001b[0m\u001b[1;32m   3362\u001b[0m             \u001b[0;32mexcept\u001b[0m \u001b[0mKeyError\u001b[0m \u001b[0;32mas\u001b[0m \u001b[0merr\u001b[0m\u001b[0;34m:\u001b[0m\u001b[0;34m\u001b[0m\u001b[0;34m\u001b[0m\u001b[0m\n",
            "\u001b[0;32m/usr/local/lib/python3.8/dist-packages/pandas/_libs/index.pyx\u001b[0m in \u001b[0;36mpandas._libs.index.IndexEngine.get_loc\u001b[0;34m()\u001b[0m\n",
            "\u001b[0;32m/usr/local/lib/python3.8/dist-packages/pandas/_libs/index.pyx\u001b[0m in \u001b[0;36mpandas._libs.index.IndexEngine.get_loc\u001b[0;34m()\u001b[0m\n",
            "\u001b[0;32mpandas/_libs/hashtable_class_helper.pxi\u001b[0m in \u001b[0;36mpandas._libs.hashtable.PyObjectHashTable.get_item\u001b[0;34m()\u001b[0m\n",
            "\u001b[0;32mpandas/_libs/hashtable_class_helper.pxi\u001b[0m in \u001b[0;36mpandas._libs.hashtable.PyObjectHashTable.get_item\u001b[0;34m()\u001b[0m\n",
            "\u001b[0;31mKeyError\u001b[0m: '1'",
            "\nThe above exception was the direct cause of the following exception:\n",
            "\u001b[0;31mKeyError\u001b[0m                                  Traceback (most recent call last)",
            "\u001b[0;32m<ipython-input-28-69a1680f80c6>\u001b[0m in \u001b[0;36m<module>\u001b[0;34m\u001b[0m\n\u001b[1;32m      1\u001b[0m \u001b[0;31m# Print the count of the 'male' and 'female' classes in the  DataFrame.\u001b[0m\u001b[0;34m\u001b[0m\u001b[0;34m\u001b[0m\u001b[0;34m\u001b[0m\u001b[0m\n\u001b[0;32m----> 2\u001b[0;31m \u001b[0mdf\u001b[0m\u001b[0;34m[\u001b[0m\u001b[0;34m\"label\"\u001b[0m\u001b[0;34m]\u001b[0m\u001b[0;34m.\u001b[0m\u001b[0mvalue_counts\u001b[0m\u001b[0;34m(\u001b[0m\u001b[0mdf\u001b[0m\u001b[0;34m[\u001b[0m\u001b[0;34m\"1\"\u001b[0m\u001b[0;34m]\u001b[0m\u001b[0;34m)\u001b[0m\u001b[0;34m\u001b[0m\u001b[0;34m\u001b[0m\u001b[0m\n\u001b[0m",
            "\u001b[0;32m/usr/local/lib/python3.8/dist-packages/pandas/core/frame.py\u001b[0m in \u001b[0;36m__getitem__\u001b[0;34m(self, key)\u001b[0m\n\u001b[1;32m   3456\u001b[0m             \u001b[0;32mif\u001b[0m \u001b[0mself\u001b[0m\u001b[0;34m.\u001b[0m\u001b[0mcolumns\u001b[0m\u001b[0;34m.\u001b[0m\u001b[0mnlevels\u001b[0m \u001b[0;34m>\u001b[0m \u001b[0;36m1\u001b[0m\u001b[0;34m:\u001b[0m\u001b[0;34m\u001b[0m\u001b[0;34m\u001b[0m\u001b[0m\n\u001b[1;32m   3457\u001b[0m                 \u001b[0;32mreturn\u001b[0m \u001b[0mself\u001b[0m\u001b[0;34m.\u001b[0m\u001b[0m_getitem_multilevel\u001b[0m\u001b[0;34m(\u001b[0m\u001b[0mkey\u001b[0m\u001b[0;34m)\u001b[0m\u001b[0;34m\u001b[0m\u001b[0;34m\u001b[0m\u001b[0m\n\u001b[0;32m-> 3458\u001b[0;31m             \u001b[0mindexer\u001b[0m \u001b[0;34m=\u001b[0m \u001b[0mself\u001b[0m\u001b[0;34m.\u001b[0m\u001b[0mcolumns\u001b[0m\u001b[0;34m.\u001b[0m\u001b[0mget_loc\u001b[0m\u001b[0;34m(\u001b[0m\u001b[0mkey\u001b[0m\u001b[0;34m)\u001b[0m\u001b[0;34m\u001b[0m\u001b[0;34m\u001b[0m\u001b[0m\n\u001b[0m\u001b[1;32m   3459\u001b[0m             \u001b[0;32mif\u001b[0m \u001b[0mis_integer\u001b[0m\u001b[0;34m(\u001b[0m\u001b[0mindexer\u001b[0m\u001b[0;34m)\u001b[0m\u001b[0;34m:\u001b[0m\u001b[0;34m\u001b[0m\u001b[0;34m\u001b[0m\u001b[0m\n\u001b[1;32m   3460\u001b[0m                 \u001b[0mindexer\u001b[0m \u001b[0;34m=\u001b[0m \u001b[0;34m[\u001b[0m\u001b[0mindexer\u001b[0m\u001b[0;34m]\u001b[0m\u001b[0;34m\u001b[0m\u001b[0;34m\u001b[0m\u001b[0m\n",
            "\u001b[0;32m/usr/local/lib/python3.8/dist-packages/pandas/core/indexes/base.py\u001b[0m in \u001b[0;36mget_loc\u001b[0;34m(self, key, method, tolerance)\u001b[0m\n\u001b[1;32m   3361\u001b[0m                 \u001b[0;32mreturn\u001b[0m \u001b[0mself\u001b[0m\u001b[0;34m.\u001b[0m\u001b[0m_engine\u001b[0m\u001b[0;34m.\u001b[0m\u001b[0mget_loc\u001b[0m\u001b[0;34m(\u001b[0m\u001b[0mcasted_key\u001b[0m\u001b[0;34m)\u001b[0m\u001b[0;34m\u001b[0m\u001b[0;34m\u001b[0m\u001b[0m\n\u001b[1;32m   3362\u001b[0m             \u001b[0;32mexcept\u001b[0m \u001b[0mKeyError\u001b[0m \u001b[0;32mas\u001b[0m \u001b[0merr\u001b[0m\u001b[0;34m:\u001b[0m\u001b[0;34m\u001b[0m\u001b[0;34m\u001b[0m\u001b[0m\n\u001b[0;32m-> 3363\u001b[0;31m                 \u001b[0;32mraise\u001b[0m \u001b[0mKeyError\u001b[0m\u001b[0;34m(\u001b[0m\u001b[0mkey\u001b[0m\u001b[0;34m)\u001b[0m \u001b[0;32mfrom\u001b[0m \u001b[0merr\u001b[0m\u001b[0;34m\u001b[0m\u001b[0;34m\u001b[0m\u001b[0m\n\u001b[0m\u001b[1;32m   3364\u001b[0m \u001b[0;34m\u001b[0m\u001b[0m\n\u001b[1;32m   3365\u001b[0m         \u001b[0;32mif\u001b[0m \u001b[0mis_scalar\u001b[0m\u001b[0;34m(\u001b[0m\u001b[0mkey\u001b[0m\u001b[0;34m)\u001b[0m \u001b[0;32mand\u001b[0m \u001b[0misna\u001b[0m\u001b[0;34m(\u001b[0m\u001b[0mkey\u001b[0m\u001b[0;34m)\u001b[0m \u001b[0;32mand\u001b[0m \u001b[0;32mnot\u001b[0m \u001b[0mself\u001b[0m\u001b[0;34m.\u001b[0m\u001b[0mhasnans\u001b[0m\u001b[0;34m:\u001b[0m\u001b[0;34m\u001b[0m\u001b[0;34m\u001b[0m\u001b[0m\n",
            "\u001b[0;31mKeyError\u001b[0m: '1'"
          ]
        }
      ]
    },
    {
      "cell_type": "code",
      "source": [
        "# Replace the \"male\" and \"female\" classes into \"0\" and \"1\" using replace() function\n",
        "df[\"label\"].replace([\"male\", \"female\"], [0, 1]) "
      ],
      "metadata": {
        "id": "I2AnnQfgE1bW",
        "colab": {
          "base_uri": "https://localhost:8080/"
        },
        "outputId": "f21961a7-d6fb-4f4f-fa0f-e8ddfb335388"
      },
      "execution_count": 19,
      "outputs": [
        {
          "output_type": "execute_result",
          "data": {
            "text/plain": [
              "0       0\n",
              "1       0\n",
              "2       0\n",
              "3       0\n",
              "4       0\n",
              "       ..\n",
              "3163    1\n",
              "3164    1\n",
              "3165    1\n",
              "3166    1\n",
              "3167    1\n",
              "Name: label, Length: 3168, dtype: int64"
            ]
          },
          "metadata": {},
          "execution_count": 19
        }
      ]
    },
    {
      "cell_type": "code",
      "source": [
        "# Print the count of the '0' and '1' classes in the  DataFrame.\n",
        "df[\"label\"].value_counts()"
      ],
      "metadata": {
        "id": "gFtUUc_dFG-t",
        "colab": {
          "base_uri": "https://localhost:8080/"
        },
        "outputId": "3f6be2ba-6ff4-41e8-f23a-df2bfce5a4d8"
      },
      "execution_count": 18,
      "outputs": [
        {
          "output_type": "execute_result",
          "data": {
            "text/plain": [
              "male      1584\n",
              "female    1584\n",
              "Name: label, dtype: int64"
            ]
          },
          "metadata": {},
          "execution_count": 18
        }
      ]
    },
    {
      "cell_type": "markdown",
      "source": [
        "Target & Feature Variables Separation\n",
        "\n",
        "The `RandomForestClassifier` module has a function called `fit()` which takes two inputs: \n",
        "1. The first input is the collection of feature variables.\n",
        "2. The second input is the target variable.  \n",
        "\n",
        "Let us try to understand what are Feature variables and Target Variables.\n",
        "\n",
        "**Feature Variables**: The features are those variables which describe the features or properties of an entity.\n",
        "\n",
        "**Target variable:** The variable which needs to be predicted is called a target variable.\n",
        "\n",
        "Let's store the feature variables in the `X` variable and the target variable in the `y` variable. We will separate the features using the `iloc[]` function. \n",
        "\n",
        "Recall the syntax for `iloc[]` function.\n",
        "\n",
        "**Syntax:** \n",
        "\n",
        "`dataframe_name.iloc[row_position_start : row_position_end, column_position_start : column_position_end]`\n",
        "\n",
        "\n",
        "We need all the rows from the training set. So, inside the `iloc[]` function, we will enter the colon (`:`) sign to get all the rows. We do not need the first column, i.e., the `LABEL` column. Therefore, inside the `iloc[]` function, as part of column indexing, enter `1` as the starting index followed by the colon (`:`) sign to include the rest of the columns from the dataset.\n"
      ],
      "metadata": {
        "id": "vG-cx0nbFlCr"
      }
    },
    {
      "cell_type": "markdown",
      "metadata": {
        "id": "g7LNHmeuXIEs"
      },
      "source": [
        "#### 7. Feature Variables Extraction\n",
        "\n",
        "\n",
        "Get the feature variable, X of the DataFrames "
      ]
    },
    {
      "cell_type": "markdown",
      "metadata": {
        "id": "r_sUY5HQXGyV"
      },
      "source": [
        "---"
      ]
    },
    {
      "cell_type": "code",
      "metadata": {
        "id": "YjNvPnyiNqVw",
        "colab": {
          "base_uri": "https://localhost:8080/"
        },
        "outputId": "63d05675-1733-46b8-e6e7-a58643cacc27"
      },
      "source": [
        "# Get the feature variables from the DataFrame.\n",
        "X = df.iloc[:, :-1]\n",
        "# Display the first 5 rows of the DataFrame.\n",
        "X.head()\n",
        "X.shape[1]"
      ],
      "execution_count": 25,
      "outputs": [
        {
          "output_type": "execute_result",
          "data": {
            "text/plain": [
              "20"
            ]
          },
          "metadata": {},
          "execution_count": 25
        }
      ]
    },
    {
      "cell_type": "markdown",
      "metadata": {
        "id": "4av3tfU5XSMN"
      },
      "source": [
        "---"
      ]
    },
    {
      "cell_type": "markdown",
      "metadata": {
        "id": "LRDStIQ7XTL-"
      },
      "source": [
        "#### 8. Target Variable Extraction\n",
        "\n",
        "Get the target variable from the DataFrames."
      ]
    },
    {
      "cell_type": "code",
      "metadata": {
        "id": "ThmWhnUJOWE8",
        "colab": {
          "base_uri": "https://localhost:8080/"
        },
        "outputId": "31dd4ccf-cd3b-4905-9566-f1af92c6765b"
      },
      "source": [
        "# Get the target variable from the DataFrame.\n",
        "y = df.iloc[:, -1] \n",
        "# Display the first 5 rows of the  Pandas series.\n",
        "y.head()"
      ],
      "execution_count": 27,
      "outputs": [
        {
          "output_type": "execute_result",
          "data": {
            "text/plain": [
              "0    male\n",
              "1    male\n",
              "2    male\n",
              "3    male\n",
              "4    male\n",
              "Name: label, dtype: object"
            ]
          },
          "metadata": {},
          "execution_count": 27
        }
      ]
    },
    {
      "cell_type": "markdown",
      "source": [
        "###Train and Test dataset\n",
        "\n",
        "As the amount of male and female data is equal in the dataset, so our dataset is not biased. Now we are good to move ahead to split our data into train and test set. \n",
        "\n",
        "`Train set` will be used to train the model to identify a certain pattern based on the features \n",
        "\n",
        "`Test set`will be the new data provided to the prediction model to test or predict an output based on the new feature given to the model.\n",
        "\n",
        "We always split the data into 70-30 or 80-20 ratio for train and test set respectively. That being said the `train dataset` will contain 70% of the total data and the `test dataset` will contain rest 30% of the data.\n",
        "\n",
        "**Syntex**:\n",
        "`from sklearn.model_selection import train_test_split`\n",
        "\n",
        "`X_train, X_test, y_train, y_test = train_test_split(X, y, test_size=0.33, random_state=42)`\n",
        "\n",
        "Here the output would be , \n",
        "- X_train- contains the feature from the train dataset\n",
        "- X_test- contains the features from the test dataset\n",
        "- y_train- contains the target variable from the train dataset\n",
        "- y_test- contains the target variables from the test dataset\n",
        "\n",
        "Input required are:-\n",
        "- feature variable, X\n",
        "- Target vaiable, y\n",
        "- Ratio at which you want to divide the train-test data\n",
        "- Random state helps to fix the randomness of the data, even if you run the code multiple times. You will always get the same data in your train and test dataset."
      ],
      "metadata": {
        "id": "kgPbpK5D9dF1"
      }
    },
    {
      "cell_type": "markdown",
      "metadata": {
        "id": "eL342E7EXe-s"
      },
      "source": [
        "--- "
      ]
    },
    {
      "cell_type": "code",
      "source": [
        "# Split the data into \"train\" and \"test\" set\n",
        "from sklearn.model_selection import train_test_split\n",
        "X_train, X_test, y_train, y_test = train_test_split(X, y, test_size = 0.33, random_state = 42)\n",
        "print(f\"Shape of X_train is: {X_train.shape} \\n Shape of X_test is: {X_test.shape} \\n \")\n",
        "print(f\"Shape of y_train is: {y_train.shape} \\n Shape of y_test is: {y_test.shape} \\n\")\n"
      ],
      "metadata": {
        "id": "iXOq-v--IVOD",
        "colab": {
          "base_uri": "https://localhost:8080/"
        },
        "outputId": "640d3c24-7302-4549-91ac-b36f7bb439fb"
      },
      "execution_count": 31,
      "outputs": [
        {
          "output_type": "stream",
          "name": "stdout",
          "text": [
            "Shape of X_train is: (2122, 20) \n",
            " Shape of X_test is: (1046, 20) \n",
            " \n",
            "Shape of y_train is: (2122,) \n",
            " Shape of y_test is: (1046,) \n",
            "\n"
          ]
        }
      ]
    },
    {
      "cell_type": "markdown",
      "metadata": {
        "id": "7IUzWvtCXgN9"
      },
      "source": [
        "#### 9. Building A Random Forest Classifier Model"
      ]
    },
    {
      "cell_type": "markdown",
      "metadata": {
        "id": "F3PeA6-AaO5J"
      },
      "source": [
        "\n",
        "####Importing `RandomForestClassifier`\n",
        "\n",
        "We need to import a module called `RandomForestClassifier` from a package called `sklearn.ensemble`. The `sklearn` (or **scikit-learn**) is a collection of many machine learning modules. Almost every machine learning algorithm can be directly applied without a knowledge of math using the **scikit-learn** library. It is kind of a plug-and-play device.\n",
        "\n",
        "\n"
      ]
    },
    {
      "cell_type": "markdown",
      "metadata": {
        "id": "CSKFSFb5gZge"
      },
      "source": [
        "#### Fitting The Model\n",
        "\n",
        "Now that we have separated the feature and target variables for deploying the `RandomForestClassifier` model, let's train the model with the feature variables using the `fit()` function. The steps to be followed are described below.\n",
        "\n",
        "1. First, call the `RandomForestClassifier` module with inputs as `n_jobs=-1` and `n_estimators=50`. Store the function in a variable with the name `rf_clf`.\n",
        "\n",
        "  For the time being, ignore the reason behind providing the `n_jobs=-1` parameter as an input.\n",
        "\n",
        "  ```\n",
        "  rf_clf = RandomForestClassifier(n_jobs=-1, n_estimators=50)\n",
        "  ```\n",
        "\n",
        "  The `n_estimators` parameter defines the number of decision trees in a Random Forest. Therefore, `n_estimators=50` means that the forest contains `50` decision trees. If `n_estimators` parameter is not defined by a user, then by default, the forest contains `100` decision trees.\n",
        "\n",
        "2. Call the `fit()` function with `x_train` and `y_train` as inputs.\n",
        "\n",
        "  ```\n",
        "  rf_clf.fit(x_train, y_train)\n",
        "  ```\n",
        "3. Call the `score()` function with `x_train` and `y_train` as inputs to check the accuracy score of the model. This step is actually not required. If you wish, you can skip this step.\n",
        "  \n",
        "  ```\n",
        "  rf_clf.score(x_train, y_train)\n",
        "  ```\n"
      ]
    },
    {
      "cell_type": "code",
      "metadata": {
        "id": "zhIZ8xDDO2Zn",
        "colab": {
          "base_uri": "https://localhost:8080/"
        },
        "outputId": "8c94f5c7-e439-4008-c059-790241c75fea"
      },
      "source": [
        "# Build a Random Forest Classifier model.\n",
        "# Import the 'RandomForestClassifier' module.\n",
        "from sklearn.ensemble import RandomForestClassifier\n",
        "rfc  = RandomForestClassifier(n_jobs = -1)\n",
        "# rfc = random forest classifier\n",
        "rfc.fit(X_train, y_train)\n",
        "rfc.score(X_train, y_train)\n",
        "# Output 1.0 tells that the model is 100% accurate"
      ],
      "execution_count": 33,
      "outputs": [
        {
          "output_type": "execute_result",
          "data": {
            "text/plain": [
              "1.0"
            ]
          },
          "metadata": {},
          "execution_count": 33
        }
      ]
    },
    {
      "cell_type": "code",
      "metadata": {
        "id": "hldcIw1_PIi4",
        "colab": {
          "base_uri": "https://localhost:8080/"
        },
        "outputId": "6da253fe-8f77-4a94-bea1-8ee7d612512c"
      },
      "source": [
        "# Predict the target variable based on the feature variables of the test DataFrame.\n",
        "y_pred = pd.Series(rfc.predict(X_test))\n",
        "print(y_pred)"
      ],
      "execution_count": 34,
      "outputs": [
        {
          "output_type": "stream",
          "name": "stdout",
          "text": [
            "0       female\n",
            "1         male\n",
            "2         male\n",
            "3       female\n",
            "4       female\n",
            "         ...  \n",
            "1041      male\n",
            "1042      male\n",
            "1043    female\n",
            "1044      male\n",
            "1045    female\n",
            "Length: 1046, dtype: object\n"
          ]
        }
      ]
    },
    {
      "cell_type": "code",
      "metadata": {
        "id": "Qk7UnroAqTUT",
        "colab": {
          "base_uri": "https://localhost:8080/"
        },
        "outputId": "56e80d62-5394-45ba-9174-f1aceaa4f3a2"
      },
      "source": [
        "# Using the 'value_counts()' function, count the number of times 0 and 1 occur in the predicted values.\n",
        "y_pred.value_counts()"
      ],
      "execution_count": 36,
      "outputs": [
        {
          "output_type": "execute_result",
          "data": {
            "text/plain": [
              "male      536\n",
              "female    510\n",
              "dtype: int64"
            ]
          },
          "metadata": {},
          "execution_count": 36
        }
      ]
    },
    {
      "cell_type": "markdown",
      "metadata": {
        "id": "k0--8i9mNPRT"
      },
      "source": [
        "---"
      ]
    },
    {
      "cell_type": "markdown",
      "metadata": {
        "id": "bely0GRdJ6hR"
      },
      "source": [
        "\n",
        "\n",
        "We deployed the `RandomForestClassifier` prediction model which classified the voices, in the test dataset, as `0` and `1`.\n",
        "\n",
        "The model turned out to be 100% accurate. \n",
        "\n",
        "However, we need to ensure that our model should make accurate predictions. For this purpose, we need to evaluate the model that we deployed.\n",
        "\n",
        "Generally, a classification model (in this case, Random Forest Classification) is evaluated through a concept called **confusion matrix**.\n",
        "\n"
      ]
    },
    {
      "cell_type": "markdown",
      "metadata": {
        "id": "u4_z7q5IXrc3"
      },
      "source": [
        "#### 10. Confusion Matrix \n",
        "To create a confusion matrix, first import `confusion_matrix` module from the `sklearn.metrics` library. This library contains all the parameters to evaluate a machine learning model. In addition to the `confusion_matrix` module, let's also import the `classification_report` module. We will use them later to evaluate our module.\n",
        "\n"
      ]
    },
    {
      "cell_type": "markdown",
      "metadata": {
        "id": "Hy1hFeqqTSYE"
      },
      "source": [
        "Now that we have got our confusion matrix, let's try to understand this concept.\n",
        "\n",
        "**Confusion Matrix:**\n",
        "---\n",
        "\n",
        "It is way of evaluating the performance of your machine learning algorithm.\n",
        "\n",
        "**For Example:**\n",
        "\n",
        "Suppose that you attempted an online exam in which you already know that out of 100 questions, you have given 75 correct answers and 25 incorrect answers.\n",
        "\n",
        "However, the exam software did not assessed the answers correctly and marked many correct answers as incorrect and incorrect answers as correct. Let us evaluate the performance of this software using confusion matrix.\n",
        "\n",
        "- There are two possible classes:\n",
        "  1. Class `correct`.\n",
        "  2. Class `incorrect`.\n",
        "\n",
        "We need to find out how many correct answers were accurately assessed or predicted by the software. \n",
        "\n",
        "Thus, \n",
        "- positive outcome $\\Rightarrow$ `correct` answer.\n",
        "- negative outcome $\\Rightarrow$ `incorrect` answer.\n",
        "\n",
        "In technical terms, the desired outcome is called a **positive outcome**. \n",
        "\n",
        "\n",
        "Now, consider the following table and a `2 X 2` matrix known as **confusion matrix**. This table shows the actual and predicted values for the first 4 questions.\n",
        "\n",
        "<img src=\"data:image/png;base64,iVBORw0KGgoAAAANSUhEUgAAATYAAACjCAMAAAA3vsLfAAACfFBMVEX////G4LT/2WaTk5Obm5ugoKD/3mfK5bmgo6zJ5Lalo6aOkI2TkIj/3WOJfkp9gFwAAACDin6zzqm6mkGbhD6TiGvtx1mIoIV5iW7q6uq1tbX/4Gn/4WT///r5/////+xFAAAAAA3S4PMVAADz9vrQ67yxaxxmd0rQ67GJPgCWnFr/vEsAEiJ3d3fM5/JvLAAnAAAAADH//+Q7AAD54cviv6RXk7np5+ZiQSTr//////EAABW7wpJHOz3G06GnwqC/xH59aik8fH+glVu04bgsV1/tvU7pwJ3/627l8v+Ue0BlgoDO25eUzLQAAB3UmjUgQS5eXl5vgqL97N52a3MrGQAPN2fXqX0AP3pwTj6v1u5WVnUgABiau+e7m4FteY6ReleZhnyibz1SY2uDdmq2xeLr2MEiFS6Ip87q0qqTWiAAOVK7yNUfByg8Z5Xm5MOXr7ZuTyYnTYEAKWLDy7irycyuoore+/BpLwBPfZ8MHh+Kq8TSs4ErLS0NQ2xLEQAvMD7bxJSXx+eRXStBV4ZWKQBTdZ+QjqsAAEnBlmA/GgCHaWX/0aanfVv+9cYkGWViP0mnbDbOtqpnUC1jnr5ykKFdbIQAXZ6Ld16LY0Q+MG0AFFWXzN8bNTp1WWGNm7hUOS4AO32GU1GZZSl1My7V1NZrc52csVlgYDzRvV9ITFoAUD7IoEsdOCzKyFxoZjNJLQSjolEsX0G1hjBDPRzMgik+Oyiul0zZ3Wu+pJZunol5gUsxISlTQjV6VBVhXUwAK0orAC1SkoeGvpGsrHAxdnxqY0lthkYOOScfHA1LPQBiQV6TgzzQpzx1gDLJllg5W1WFvrqLnG4kMjro7D9zAAAQYUlEQVR4nO2djV8TV7rHJ5FOmGpgJJAAkwQCxLihBORFCGCCEiMkYIRgqVQQRGjIuip1aylot0BxixTulqxebVV6L5cN40IkiQqiha6lWvfCrdh/6J4Z3gIksQyOEDm/D8nMnDnnDPPNc95mnjODIBuqpKBA1DslG0sN2bbBx2eodzb4+AGKLWiDjw+xMRLExkgQGyNBbIwEsTESxMZIEBsjQWyMBLExEsTGSBAbI0FsjPTasGVmZiZ4bmeUSpcHAJnLVK/paG8NtuT3jr5f6LFd/kH2sQpqJf1D9UJY+nGIbYWSK3viK6uCTyQ0lJwoRB4mVX8srYmTRJRUnMRrVemnyuqQ+qQdH0FsK5RsacArrH88Xf+n4OozZ/FzjR9LYis6z/+59JDsE2ly6YU9nzZ9FrEHYluhZFlzC2K1IBfxS5euVX0uLf9A8pe4/r8jSEOOugeEfTGQojLDQrpSyZXgC2BrPV9oPt26J677Y4Ct80x2cA+uSk1pk0THpFkaDkNsK9REYWu3IJJqfE+LpFoW+qWko87cgVuQdlx1KB6/LM3AS76A2DZUEBsjQWyMBLExEsTGSBAbI0FsjASxMRLExkgQGyNBbIwEsTESxMZIEBsjQWyMtNFOqEnbWNN29vIOeotdnqOi2ct7o60tQLG9xXUbxMZIEBsjQWyMBLExEsTGSBCbV825YUlWemMtijm2KKn/nDcvNvO2QiTa0/GKOov6uqXN7KyK3qvq1L+mHlavTDsvP9jqt2+PW8z3r1JEKnnXg1HDV+qapBPqzr2+/+3Nii39yl6kKw6JAmcTlZBALb8+IzVT55owZwbpX6i78bae/0CsbT6y8IOtqiLmb+r5zJFo5Js2JDqB/mGoIKTzckxay8SZhq+kPjPYtNiunlJ1xfUGd6kuBNssDee64sr/eDqjsl2Vei1zW00LgrS+L+0WfdzzLWL4u48s/GJDbqi7z52Ka+3bJr2d2Xi1sKv+mvRiG3U8RHKyJSZN1f2fqbgvO97E2Errr54aOBZ8veW6qqouJui6peEzJMPSWtla2XniwjU10vol0v3JDe23SJWvsuQHW/m165aey0jPmfLLauQ2crIC6ZJ2qcsyqeMhkhttMbH4dypJrG9Hm82LDan+MTMJ/N415+qQG6pD1GlmWFJLa9SddKls/VzafbPh1reIzyrIv7UhDZcR8EuYs1S3kU6ArTAjuC+mjLIvSftNYG0IEpMSkNjOHi7sLdupqj4XYSk/MWHJflyXYUE6SxHz7Z0tUuTs++rum0j7eaS/xUcW/rBR5LuNtYVVQWXq29JD1+K6CmP+VoE8TNoJUHXvTU0BXHt8NjabF9uism9LG854C/9+ri3M9lmUGHdAWv+LXhzydth5bXpsSP22YK8tWu8cLnOfr4SMsWW/S5tZb5zvKJsfG2PBUQIjQWyMBLExEsTGSBAbI60N23+vyfceYqNl/vP35wZ8j9xXKaCw9eOWNcReC7b6Uym1fW8rtqgoP1cOV8deUyH9H1hI57Q2bFFrsDWIjaEgNkaC2BgJYmMkiI2RIDZGgtgYCWJjpI3GxuLx2XVC3b4+79/1JQ8q2c6eSnawppL1/t7rLGU75RhbChOI+SxJHL7R2DAOWwoToFyWhEJsEBvEBrFBbBAbxAaxQWwQG8T2FmFbC0vUy9oWw0YQBLWNDpEepw8ClyLQX55phCQVgY40JGQXm2SiEimvXBYyID37jw3HRlhxXEmgqLjJjtL4wBdqwvFBYm4V5Xc49CS/3U5QpkVHIXY90x/FXTNH8XuEVYmyi+3YHTXA1hstBZ/TkoHT0vp9pxNOZyYgmQnm6FW3vt8YNnHyIy5XLyDF7XaugETBGuBl+ic/3skdEgBrIvlDpNVFDpFDXO4QMSMA1iWOtZuahdyZYWHTM9MRgl1st1st5ZUZdRmWi5UXLea4jL70EpW5tNUi6fr0RNTtlc7XbxCbYojo33/cYbVb79kKmu6OOFHU9MsQ7mi6N6IwDWc5muxNw06rs4M0uUzDE8MEly8bMzULyJlhQZpS/4BtbNJjFyq/ubqj5WLfhbrUbTWXY8rU5tKYEz2Wrw8GJW0gtgc2h/ueDGBz38vX4/dSngFszTanPqcgcXgma5BoctxXFFjtuxRWp7X5Hj7G5eYUmGQ25Uy8LZ94A9ga8Mpf25CEqqvBhZ1t6TS2fyBVZXENZ5DMlZ4Wy7FhmBeK/sHy6EuSVCRsRcyV2JQF+pTwWEe7M3w0XiBzjpJc9P4/C1BQTN0uk7ND2WS/f0RotSfKnhO7XIJRYG34mOkWQZiGQZWoH2YZ2zYp0l0XU7Mjrup0/WUzNT/qYV9UMFJfKkUebj+3MrknNkyjBVp+7lpw+mHLOXE0HgFYyDiVCMTDtLv36Xxj4/c7Ua57cL+jH9icEjXZbFQhVYDaf8Y26NDb7hL9Dn2j023n9j8iuO020FSIY/P0g1xUfxdwuu9iF9uSum/2lr7SjWeZtWm0j7VhGA/jUabD44FdmitGefUsxqNCeFQYT2Pk5RrlFD0eZZrYyE8/xDffeYmPF/1JN/EE84mN7lqAvgTVTBLUh96m21QqEHwIKg46F5HumBC7FHT/BHz4TSy3pEuSDPwO/8TlhVS+j4dFhmpDObkiLCISGJ5m8qkuZFYTOqkrSho0FkVOhuXfGs8VRRTvjtRFRI5jnKIcnXz/AXn+4I+7/6WbPugHGwMJl7p4y7ptm627C7Dxsorlk2G5xilj7gsdR1MyZQzRhoxPHTAU589qtPnGohc8aqeGivBAx8vbo8MobE8mfvqXbuqg70L6WrX5sMl/4MgnObnG8CegxgLYsMEX2sZxbVi+MZKjNIbOYdMYX87mHwARlrDlubY2tn0cXvV4tTGvViMChbSEl4cX549rtCGRobOGWcOBohdaULeF3NHl1YaJdJyiwwDbz/L8A7snDuvyX3MhDRRsGNUgAhsTgZYhV0Q1mKB+A+svRTybruhHjkir5eVqw7Q8jRabi4CNzGK5WtAG8zQint8mwUNCoNVhczsCEdtCz4tqRKn2dCEMtKohxqfFGB2+mIKKgIUsouIV+euAeIjfj+MyOzUWBcN0Lt2w0q0mV48/HybpsTtKN68o4T2DTYfNt3g0M2/hS+vyZXt8WxuRmDNmUhJu0uC+60Dd+0GPbg7bJdB0GgykIZzU7w8hZsJtPrixji3hFS7xG3KZEtXnjCUeJmId8c+sLtMvApljHlsKfoSPPxKCv/jRCZcpx+kjB7axpad8V+g3woZh4zYZhgvix0yuXfjzePuCtREF+sdj/OMAaoFp2OQK/EL6WrEl5jgIE64Upyg6npmGww3EPLb4uyHCnDE+sL6UuyNKk8tnBlsSG1dID9Qd4njnKCEeGgVb6AyJcoWC0VFq1yiBCkGgnvSVfotiowam928RYtxBD0wXrvbSq+jcjQMU9XPbYatio06dmL99wEBbGNt6BLFBbBAbxAaxQWwQGwvYJNHeHotk3uclFGJbUgN+fu7uSfpXHveDzcchNn/YJDeu/qUCMYfEV1rxw59mtaV/oa669FsFK9jkPLYUJhCjLMn7LJiYK4Un9yKdH2T3fS1TxcRWpu9R90YfO5PtDVvJ+uZcTYawp8lQ1vTAG7ZD+G9Hz0upFxen56hjYtvS93x6ozbrTHbK67e2CNYsghCKWLNkeaQXbJL2vZln46nXZJ/owW9KkvdW7alPaznJDjbW6h+uUMRavcnziq0L4Om2SK7faUOq7hQ2lGwvU1fd2dmXXQax+cG2JkFsEBvEBrFBbBAbxAaxQWxbFtsaSXpER5dN/Qk0bGt4gqQXbPyTjt+LaWX0GU9flwDDdujahS8XfJ0ltwvrVdRLXX4HNn4sjudRs6LSHOjCzXLCKiP5hxemRVFzoVD9NGo6UoDSE6Oo0MRbYpDQETtMmBT64cC1tkMtyDcq8/Y+JHtHi3Qgs702biAzGkmtQx56eUSrJ7a0vALCbXCK08ZmDCRhMlBuZ/3/VvAfF+gN+QQ/fHpaaJh2uGUhQsEQyReQegPlvLFLIQYJxbH/dpoU/BRH4GKzxHwk/V91w97OSrO0q7C8DakZOKUur6hSHVr9/pFl1nbXUGAQyArSHPHTIcLno1ccAJs9y/FYHKtsUu5SWF0zo1aFuzl/ZtDtEh4lr4x2OFHUqhRTCWNJ14yiINmOBiy2a0GFPZ8hqV9GXf9sHltc1Sc1CY1Xg06/Alu4eAKXjcWOuXHlfRzHlQCK/f6zfYlgXeE+MkKawFI/TOgHhQ/cCrCBP5vHFl4QO5b8f48CGpsFQWK+VbfuHUB+besqvFgJsJk/7EO6K7JX13HLCqmTSMwR4GNp5GB481Dz6KgQ1G12ftotfopylPzDI/AZtCr0eP7MEXETbtcfp+dN9T8Tg4Ti2LFEXCGOtfsupNT1xZWn7xHAW/xaEH2VE6NSrfR/ZQNbOgXHvL0FMe9oQaITzDsqegslvSoku2bb6nfSeGILJ7mEe1pQ8GvB0DQpNoUbSGquMTEzTegNBoCt/z19+KhTPJQvHAWBQmKGjnHfJXaTXP6vBOF26ptJn9h2RwIt84nmaCIjF6d4YaIwHoaJPKZzFeE/RYoitS8jI8OmDi4Hvqn6bUseZostKXduYhR1jduK44/QudZ0WQy9bIyYj0gscxtdVUhzjRg1cwuj3Kcp++FNPdmdpuPRITxMxMkfl4vC5JQv+tzez3ND8Rfajhe2g5pLYZsXm3/5c9PzqlWFNNcozy3Zqa2VRxTnPp0sprDJ9xfnR05q82ojdde1jS+KI7STujxj7iS1d/oArwgv3t0xO/UjZ6QYC1Bsa5ZXbLVyDcCmtY2HHMB4Uy8eHSyq5RUdzK/VyZ+GAWur1oYWhxSDvT9jvP1PaGwjuGx8d9b41sZGk4vQDhZz6ELKAcyov9ynxXPYiqfGkzAbvXceW8cshxcw2FAUXbUHXar+GGOrxTRPRd9r840vi4G1PQGVnW08VPRSRGGbqtVWazU/jMunjC/HMd70zzS22FmMU3S0OCDqNv6QQCBYMf8JnSG5AmohEPh04faHbVHUVC2PKdFhYdj8DOmFQHovL+87jDMfkPvbG24SzAOMsIn7R2Q2B8Gde3YJl55qTPxBmXiYmvR+ZL+ToEWHE4QP41tvd3f35EJ3hTdlXGG4bGPz+v69V2PjEmC4vkvJnyCzJh449O3PlSiN7T36gR4kv73xbnjjoLDxuZP/faPSex7rHiUsJX8T3V0PSW5ckn3k920hPus20xHCNCx8IIx3WBW7XG7Z2CK2pgc2okmBWl1C6yO9zBHvXGshXb/YtrbMCx/6f3+LP2zcrEYF//gYGMMP77/rWLI2e4G4yS62KvlNYOTlSBl7+7Ah9a94n49vbL8QxH2c1Mffw+2m59TzJRbrtuZ7ToCt6ZnY3Tzi4uO+LmoGMrZXyWe/TQiGm/pmQn+cJFFUT1Jtp1DIpRckKRQKUWqiMfXoBJ+t6pbERlmc+xEhtBHzQ1OPcGb9tq2CjebDdFrUFsa2PkFsEBvEBrFBbBAbxAaxQWyvExs/ELFhG46NtbcD8QE21hSJvPvOurTe5MHs6V32FPT/iLu6AcPJ0zIAAAAASUVORK5CYII=\"/>\n",
        "\n",
        "\n",
        "\n",
        "Now let us have a look at each cell of the confusion matrix.\n",
        "\n",
        "1. The first row first column value indicates those `incorrect` answers which were <b><font color=green>accurately</font></b> assessed or predicted as `incorrect` by the software.\n",
        "Such values are called as **True Negative (TN)**.\n",
        "\n",
        "\n",
        "\n",
        "\n",
        "2. The second  row second column value  indicates those `correct` answers which were <b><font color=green>accurately</font></b> assessed or predicted as `correct` by the software.\n",
        "Such values are called as **True Positive (TP)**.\n",
        "\n",
        "\n",
        "\n",
        "3. The second  row first column value  indicates those `correct`  answers which were <b><font color=red>inaccurately</font></b>  assessed or predicted as `incorrect` by the software.\n",
        "Such values are called as **False Negative (FN)**.\n",
        "\n",
        "\n",
        "\n",
        "\n",
        "4. The first  row second column value  indicates those `incorrect`  answers which were <b><font color=red>inaccurately</font></b>  assessed or predicted as `correct` by the software.\n",
        "Such values are called **False Positive (FP)**.\n",
        "\n",
        "\n",
        "\n",
        "\n",
        "\n",
        "The resultant confusion matrix obtained after evaluating values for all the 100 questions are as follows:\n",
        "\n",
        "\n",
        "\n",
        "\n",
        "- Values that are accurately predicted or assessed by the model are labelled **True (T)**. Thus, the number of answers which were <b><font color=green>accurately</font></b> predicted by the software = `85`\n",
        "\n",
        "\n",
        "\n",
        "- Values that are inaccurately predicted or assessed by the model are labelled **False (F)**. Thus, the number of answers which were <b><font color=red>inaccurately</font></b> predicted by the software = `15`\n",
        "\n",
        "\n",
        "\n",
        "Thus the confusion matrix compares the actual values with the predicted values and thus it is very useful in evaluating the performance of your machine learning model.\n",
        "\n",
        "---\n",
        "\n",
        "Let us apply the concept of confusion matrix for our dataset.\n",
        "\n",
        "There are two possible classes:\n",
        "1. The class `0` values are male voices.\n",
        "2. The class `1` values are female voices.\n",
        "\n",
        " So, after you deploy the classification model, there are 4 possible outcomes. They are:\n",
        "\n",
        "1. Class `0` values predicted as class `0`. \n",
        "\n",
        "2. Class `0` values predicted as class `1`.\n",
        "\n",
        "3. Class `1` values predicted as class `0`.\n",
        "\n",
        "4. Class `1` values predicted as class `1`.\n",
        "\n",
        "These 4 possibilities can be reported in a confusion matrix. \n",
        "\n",
        "||Predicted Class `0` (`y_predicted`)|Predicted Class `1` (`y_predicted`)|\n",
        "|-|-|-|\n",
        "|Actual Class `0` (`y_test`)|||\n",
        "|Actual Class `1` (`y_test`)|||\n",
        "\n",
        "where\n",
        "\n",
        "- `y_test` contains the actual class `0` and class `1` values\n",
        "\n",
        "- `y_predicted` contains the predicted class `0` and class `1` values\n",
        " \n",
        "\n",
        "Observe the output of `confusion_matrix(y_test, y_predicted)` function.\n",
        "\n",
        "```\n",
        "array([[532,  15],\n",
        "       [  8, 491]])\n",
        "```\n",
        "\n",
        "\n",
        "\n",
        "\n"
      ]
    },
    {
      "cell_type": "code",
      "metadata": {
        "id": "P4mV8cniPPlp",
        "colab": {
          "base_uri": "https://localhost:8080/"
        },
        "outputId": "3fbb9625-d251-4650-8a88-0f50e0ec363f"
      },
      "source": [
        "# Print the confusion matrix to see the number of TN, FN, TP and FP.\n",
        "from sklearn.metrics import confusion_matrix\n",
        "cm = confusion_matrix(y_test, y_pred)\n",
        "cm"
      ],
      "execution_count": 37,
      "outputs": [
        {
          "output_type": "execute_result",
          "data": {
            "text/plain": [
              "array([[493,   6],\n",
              "       [ 17, 530]])"
            ]
          },
          "metadata": {},
          "execution_count": 37
        }
      ]
    },
    {
      "cell_type": "markdown",
      "source": [
        "TN = 493, FP = 6, FN = 17, TP = 530"
      ],
      "metadata": {
        "id": "5JgeWGuq2MUy"
      }
    },
    {
      "cell_type": "markdown",
      "source": [
        "Precision = TP/ (TP + FP)\n",
        "TP = 530, FP = 6\n",
        "So, precision = 530 / (530 + 6) = 0.9899\n",
        "\n",
        "Now, for class 0, TP = 493, FP = 17 \n",
        "So precession = 493 / 510 = 0.9666\n",
        "\n",
        "For class 1,\n",
        "Recall = TP / (TP + FP) = 530 / 547 = 0.97\n",
        "\n",
        "For class 0,\n",
        "Recall = TP / (TP + FP) = 493 / (493 + 6) = 0.9879\n"
      ],
      "metadata": {
        "id": "HODDL9qP3-He"
      }
    },
    {
      "cell_type": "code",
      "source": [],
      "metadata": {
        "id": "y5nUmoRG5STF"
      },
      "execution_count": null,
      "outputs": []
    },
    {
      "cell_type": "markdown",
      "source": [],
      "metadata": {
        "id": "GydQkqP12F8b"
      }
    },
    {
      "cell_type": "markdown",
      "metadata": {
        "id": "xRE1NWQxmjlV"
      },
      "source": [
        "#### Precision And Recall^\n",
        "\n",
        "A good prediction model provides a very large number of true positive (TP) values and a very low number of true negative (TN) values.\n",
        "\n",
        "**Precision:**\n",
        "\n",
        "Based on the TP and FP values, we define a parameter called **precision**. \n",
        "It is used to evaluate the number of correct positive predictions made.\n",
        "\n",
        "It is the ratio of the TP values to the sum of TP and FP values, i.e.,\n",
        "\n",
        "(defn of precision and recall)\n",
        "(precision of both outcomes.)\n",
        "(add example values)\n",
        "\n",
        "$$\\text{precision} = \\frac{\\text{TP}}{\\text{TP + FP}}$$\n",
        "\n",
        "\n",
        "\n",
        "Ideally, the precision should be 1 for a good classifier model. \n",
        "\n",
        "\n",
        "**Recall:**\n",
        "\n",
        "Based on the TP and FN values, we define another parameter called **recall**.\n",
        "It is the ratio of the TP values to the sum of TP and FN values, i.e, \n",
        "\n",
        "$$\\text{recall} = \\frac{\\text{TP}}{\\text{TP + FN}}$$\n",
        "\n",
        "\n",
        "\n",
        "\n",
        "Evidently, there is a trade-off. If the recall value is high, then the precision value will be low and vice-versa. Hence, we need to find an optimum point where both, the precision and the recall values are acceptable."
      ]
    },
    {
      "cell_type": "markdown",
      "metadata": {
        "id": "kJQ8pWo76WQC"
      },
      "source": [
        "####The `f1-score`\n",
        "\n",
        "To find an optimum point where both, the precision and recall values, are high, we calculate another parameter called **f1-score**. It is a harmonic mean of the precision and recall values, i.e.,\n",
        "\n",
        "\n",
        "\n",
        "$$\\text{f1-score} = 2 \\left( \\frac{\\text{precision} \\times \\text{recall}}{\\text{precision} + \\text{recall}} \\right)$$\n",
        "\n",
        "\n",
        "f1-score will be high only when both precision and recall are high. \n",
        "\n",
        "You can also get these values by calling a function called `classification_report()`. It takes two inputs: the actual target values and the predicted target values, i.e., `y_test` and `y_predicted`.\n",
        "\n",
        "**Note:** You may get the following warning message after executing the code in the code cell below.\n",
        "\n",
        "```\n",
        "Precision and F-score are ill-defined and being set to 0.0 in labels with no predicted samples.\n",
        "```\n",
        "\n",
        "Ignore the warning."
      ]
    },
    {
      "cell_type": "code",
      "metadata": {
        "id": "ReCoX3X8PaQT",
        "colab": {
          "base_uri": "https://localhost:8080/"
        },
        "outputId": "be402392-9211-4db2-b09f-b438c6e27873"
      },
      "source": [
        "# Print the precision, recall and f1-score values for both the male and female classes.\n",
        "# Import the confusion_matrix and classification_report modules.\n",
        "from sklearn.metrics import classification_report\n",
        "print(classification_report(y_test, y_pred))"
      ],
      "execution_count": 39,
      "outputs": [
        {
          "output_type": "stream",
          "name": "stdout",
          "text": [
            "              precision    recall  f1-score   support\n",
            "\n",
            "      female       0.97      0.99      0.98       499\n",
            "        male       0.99      0.97      0.98       547\n",
            "\n",
            "    accuracy                           0.98      1046\n",
            "   macro avg       0.98      0.98      0.98      1046\n",
            "weighted avg       0.98      0.98      0.98      1046\n",
            "\n"
          ]
        }
      ]
    },
    {
      "cell_type": "markdown",
      "source": [
        "For class 0, precession: 0.97; Recall = 0.99; f1-score:0.98;\n",
        "For class 1, precession: 0.99; Recall = 0.97; f1-score:0.98;\n",
        "Audio frequency of male and female are accurate.\n",
        "Because the f1-score of class 0 and class 1 is same and it's close to 1.  \n",
        "* Model can accurately predict voice of male and female for new data-set. \n",
        "\n",
        "\n",
        "\n",
        "\n"
      ],
      "metadata": {
        "id": "_m2qDoNq8Ssw"
      }
    },
    {
      "cell_type": "markdown",
      "metadata": {
        "id": "IOGEGt1fwB1y"
      },
      "source": [
        "**Write your interpretation of the results here.**\n",
        "\n",
        "*   List item\n",
        "*   List item\n",
        "\n",
        "\n",
        "\n",
        "-"
      ]
    },
    {
      "cell_type": "markdown",
      "metadata": {
        "id": "Cbdam0nqXxB0"
      },
      "source": [
        "---"
      ]
    }
  ]
}